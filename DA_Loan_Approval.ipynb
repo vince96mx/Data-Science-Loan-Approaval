{
 "cells": [
  {
   "cell_type": "markdown",
   "id": "a34c9a0b",
   "metadata": {},
   "source": [
    "Data Analytics Assignment - Loan Approval\n",
    "\n",
    "Author: Vicente Alejandro Lomelín Ibarra  A01175933\n",
    "\n",
    "April 2022"
   ]
  },
  {
   "cell_type": "code",
   "execution_count": 1,
   "id": "61c92471",
   "metadata": {},
   "outputs": [],
   "source": [
    "import pandas as pd\n",
    "import seaborn as sns\n",
    "import numpy as np\n",
    "import matplotlib.pyplot as plt\n",
    "\n",
    "from sklearn.preprocessing import StandardScaler, LabelEncoder\n",
    "from sklearn.model_selection import train_test_split\n",
    "\n",
    "from sklearn.naive_bayes import GaussianNB\n",
    "from sklearn.ensemble import RandomForestClassifier\n",
    "from sklearn.ensemble import GradientBoostingClassifier\n",
    "from sklearn.linear_model import LogisticRegression\n",
    "from sklearn.tree import DecisionTreeClassifier\n",
    "from sklearn.svm import SVC\n",
    "import xgboost as xgb\n",
    "from xgboost import XGBClassifier\n",
    "from sklearn.metrics import confusion_matrix\n",
    "from sklearn.metrics import accuracy_score\n",
    "from sklearn.metrics import classification_report \n",
    "from sklearn.metrics import f1_score\n",
    "from sklearn.metrics import roc_auc_score\n",
    "from sklearn.metrics import recall_score\n",
    "from sklearn.metrics import precision_score\n",
    "from sklearn.ensemble import ExtraTreesClassifier\n",
    "from sklearn.model_selection import cross_val_score\n",
    "\n",
    "import statsmodels.api as sm\n",
    "from sklearn.linear_model import LinearRegression\n",
    "\n",
    "from sklearn.metrics import r2_score\n",
    "from sklearn.metrics import mean_squared_error\n",
    "\n",
    "from sklearn.model_selection import KFold\n",
    "from sklearn import metrics\n",
    "from sklearn import preprocessing\n",
    "\n",
    "from sklearn.model_selection import GridSearchCV\n",
    "\n",
    "import warnings\n",
    "warnings.filterwarnings(\"ignore\")"
   ]
  },
  {
   "cell_type": "markdown",
   "id": "a70a5e87",
   "metadata": {},
   "source": [
    "# Data Exploration"
   ]
  },
  {
   "cell_type": "markdown",
   "id": "3b476a6d",
   "metadata": {},
   "source": [
    "## Importing Datasets"
   ]
  },
  {
   "cell_type": "code",
   "execution_count": 2,
   "id": "7e345891",
   "metadata": {},
   "outputs": [],
   "source": [
    "df_loans = pd.read_csv('loan.csv')\n",
    "df_predict = pd.read_csv('predict.csv')"
   ]
  },
  {
   "cell_type": "markdown",
   "id": "9f4a706f",
   "metadata": {},
   "source": [
    "## Data Undestanding"
   ]
  },
  {
   "cell_type": "code",
   "execution_count": 3,
   "id": "4d29ded1",
   "metadata": {},
   "outputs": [
    {
     "name": "stdout",
     "output_type": "stream",
     "text": [
      "<class 'pandas.core.frame.DataFrame'>\n",
      "RangeIndex: 614 entries, 0 to 613\n",
      "Data columns (total 13 columns):\n",
      " #   Column             Non-Null Count  Dtype  \n",
      "---  ------             --------------  -----  \n",
      " 0   Loan_ID            614 non-null    object \n",
      " 1   Gender             601 non-null    object \n",
      " 2   Married            611 non-null    object \n",
      " 3   Dependents         599 non-null    object \n",
      " 4   Education          614 non-null    object \n",
      " 5   Self_Employed      582 non-null    object \n",
      " 6   ApplicantIncome    614 non-null    int64  \n",
      " 7   CoapplicantIncome  614 non-null    float64\n",
      " 8   LoanAmount         592 non-null    float64\n",
      " 9   Loan_Amount_Term   600 non-null    float64\n",
      " 10  Credit_History     564 non-null    float64\n",
      " 11  Property_Area      614 non-null    object \n",
      " 12  Loan_Status        614 non-null    object \n",
      "dtypes: float64(4), int64(1), object(8)\n",
      "memory usage: 62.5+ KB\n"
     ]
    }
   ],
   "source": [
    "df_loans.info()"
   ]
  },
  {
   "cell_type": "code",
   "execution_count": 4,
   "id": "da3b0216",
   "metadata": {},
   "outputs": [
    {
     "data": {
      "text/plain": [
       "(614, 13)"
      ]
     },
     "execution_count": 4,
     "metadata": {},
     "output_type": "execute_result"
    }
   ],
   "source": [
    "df_loans.shape"
   ]
  },
  {
   "cell_type": "markdown",
   "id": "efab35c5",
   "metadata": {},
   "source": [
    "The data provided consists of a total of 13 attributes. Out of these attributes, 8 of them appear to be categorical types and 5 of them numeric. Out of the 8 categorical attributes, one of them (Loan_Status) is the target variable, leaving a total of 12 attributes that could potentially be used to build a model. The total number of entries of the data is 614, however there appears to be some data missing, since the total of entries some of the listed attributes appear to be less than 614 entries. The Loan_ID attribute serves as a unique identifier for each of the customers, therefore it can be later dropped since it would not provide additional information that could be used by the model, leaving a total of 11 possible attributes that could be used to build the model."
   ]
  },
  {
   "cell_type": "code",
   "execution_count": 5,
   "id": "f92e9ed3",
   "metadata": {
    "scrolled": true
   },
   "outputs": [
    {
     "name": "stdout",
     "output_type": "stream",
     "text": [
      "<class 'pandas.core.frame.DataFrame'>\n",
      "RangeIndex: 367 entries, 0 to 366\n",
      "Data columns (total 12 columns):\n",
      " #   Column             Non-Null Count  Dtype  \n",
      "---  ------             --------------  -----  \n",
      " 0   Loan_ID            367 non-null    object \n",
      " 1   Gender             356 non-null    object \n",
      " 2   Married            367 non-null    object \n",
      " 3   Dependents         357 non-null    object \n",
      " 4   Education          367 non-null    object \n",
      " 5   Self_Employed      344 non-null    object \n",
      " 6   ApplicantIncome    367 non-null    int64  \n",
      " 7   CoapplicantIncome  367 non-null    int64  \n",
      " 8   LoanAmount         362 non-null    float64\n",
      " 9   Loan_Amount_Term   361 non-null    float64\n",
      " 10  Credit_History     338 non-null    float64\n",
      " 11  Property_Area      367 non-null    object \n",
      "dtypes: float64(3), int64(2), object(7)\n",
      "memory usage: 34.5+ KB\n"
     ]
    }
   ],
   "source": [
    "df_predict.info()"
   ]
  },
  {
   "cell_type": "code",
   "execution_count": 6,
   "id": "02e14186",
   "metadata": {},
   "outputs": [
    {
     "data": {
      "text/plain": [
       "(367, 12)"
      ]
     },
     "execution_count": 6,
     "metadata": {},
     "output_type": "execute_result"
    }
   ],
   "source": [
    "df_predict.shape"
   ]
  },
  {
   "cell_type": "markdown",
   "id": "920dfe01",
   "metadata": {},
   "source": [
    "The predict file appears to have 367 entries, with the same attributes as the loans file with the exception of the target variable of Loan_Status. The datatypes of the attributes are the same as those from the loans file. Additionally, similar to what is observed in the loans file, there appears to be some missing values in the file. Appropiate steps would be required to address this issue based on the steps taken for the loans historical data."
   ]
  },
  {
   "cell_type": "code",
   "execution_count": 7,
   "id": "0ca3b8c2",
   "metadata": {},
   "outputs": [
    {
     "data": {
      "text/html": [
       "<div>\n",
       "<style scoped>\n",
       "    .dataframe tbody tr th:only-of-type {\n",
       "        vertical-align: middle;\n",
       "    }\n",
       "\n",
       "    .dataframe tbody tr th {\n",
       "        vertical-align: top;\n",
       "    }\n",
       "\n",
       "    .dataframe thead th {\n",
       "        text-align: right;\n",
       "    }\n",
       "</style>\n",
       "<table border=\"1\" class=\"dataframe\">\n",
       "  <thead>\n",
       "    <tr style=\"text-align: right;\">\n",
       "      <th></th>\n",
       "      <th>Loan_ID</th>\n",
       "      <th>Gender</th>\n",
       "      <th>Married</th>\n",
       "      <th>Dependents</th>\n",
       "      <th>Education</th>\n",
       "      <th>Self_Employed</th>\n",
       "      <th>ApplicantIncome</th>\n",
       "      <th>CoapplicantIncome</th>\n",
       "      <th>LoanAmount</th>\n",
       "      <th>Loan_Amount_Term</th>\n",
       "      <th>Credit_History</th>\n",
       "      <th>Property_Area</th>\n",
       "      <th>Loan_Status</th>\n",
       "    </tr>\n",
       "  </thead>\n",
       "  <tbody>\n",
       "    <tr>\n",
       "      <th>0</th>\n",
       "      <td>LP001002</td>\n",
       "      <td>Male</td>\n",
       "      <td>No</td>\n",
       "      <td>0</td>\n",
       "      <td>Graduate</td>\n",
       "      <td>No</td>\n",
       "      <td>5849</td>\n",
       "      <td>0.0</td>\n",
       "      <td>NaN</td>\n",
       "      <td>360.0</td>\n",
       "      <td>1.0</td>\n",
       "      <td>Urban</td>\n",
       "      <td>Y</td>\n",
       "    </tr>\n",
       "    <tr>\n",
       "      <th>1</th>\n",
       "      <td>LP001003</td>\n",
       "      <td>Male</td>\n",
       "      <td>Yes</td>\n",
       "      <td>1</td>\n",
       "      <td>Graduate</td>\n",
       "      <td>No</td>\n",
       "      <td>4583</td>\n",
       "      <td>1508.0</td>\n",
       "      <td>128.0</td>\n",
       "      <td>360.0</td>\n",
       "      <td>1.0</td>\n",
       "      <td>Rural</td>\n",
       "      <td>N</td>\n",
       "    </tr>\n",
       "    <tr>\n",
       "      <th>2</th>\n",
       "      <td>LP001005</td>\n",
       "      <td>Male</td>\n",
       "      <td>Yes</td>\n",
       "      <td>0</td>\n",
       "      <td>Graduate</td>\n",
       "      <td>Yes</td>\n",
       "      <td>3000</td>\n",
       "      <td>0.0</td>\n",
       "      <td>66.0</td>\n",
       "      <td>360.0</td>\n",
       "      <td>1.0</td>\n",
       "      <td>Urban</td>\n",
       "      <td>Y</td>\n",
       "    </tr>\n",
       "    <tr>\n",
       "      <th>3</th>\n",
       "      <td>LP001006</td>\n",
       "      <td>Male</td>\n",
       "      <td>Yes</td>\n",
       "      <td>0</td>\n",
       "      <td>Not Graduate</td>\n",
       "      <td>No</td>\n",
       "      <td>2583</td>\n",
       "      <td>2358.0</td>\n",
       "      <td>120.0</td>\n",
       "      <td>360.0</td>\n",
       "      <td>1.0</td>\n",
       "      <td>Urban</td>\n",
       "      <td>Y</td>\n",
       "    </tr>\n",
       "    <tr>\n",
       "      <th>4</th>\n",
       "      <td>LP001008</td>\n",
       "      <td>Male</td>\n",
       "      <td>No</td>\n",
       "      <td>0</td>\n",
       "      <td>Graduate</td>\n",
       "      <td>No</td>\n",
       "      <td>6000</td>\n",
       "      <td>0.0</td>\n",
       "      <td>141.0</td>\n",
       "      <td>360.0</td>\n",
       "      <td>1.0</td>\n",
       "      <td>Urban</td>\n",
       "      <td>Y</td>\n",
       "    </tr>\n",
       "  </tbody>\n",
       "</table>\n",
       "</div>"
      ],
      "text/plain": [
       "    Loan_ID Gender Married Dependents     Education Self_Employed  \\\n",
       "0  LP001002   Male      No          0      Graduate            No   \n",
       "1  LP001003   Male     Yes          1      Graduate            No   \n",
       "2  LP001005   Male     Yes          0      Graduate           Yes   \n",
       "3  LP001006   Male     Yes          0  Not Graduate            No   \n",
       "4  LP001008   Male      No          0      Graduate            No   \n",
       "\n",
       "   ApplicantIncome  CoapplicantIncome  LoanAmount  Loan_Amount_Term  \\\n",
       "0             5849                0.0         NaN             360.0   \n",
       "1             4583             1508.0       128.0             360.0   \n",
       "2             3000                0.0        66.0             360.0   \n",
       "3             2583             2358.0       120.0             360.0   \n",
       "4             6000                0.0       141.0             360.0   \n",
       "\n",
       "   Credit_History Property_Area Loan_Status  \n",
       "0             1.0         Urban           Y  \n",
       "1             1.0         Rural           N  \n",
       "2             1.0         Urban           Y  \n",
       "3             1.0         Urban           Y  \n",
       "4             1.0         Urban           Y  "
      ]
     },
     "execution_count": 7,
     "metadata": {},
     "output_type": "execute_result"
    }
   ],
   "source": [
    "df_loans.head()"
   ]
  },
  {
   "cell_type": "code",
   "execution_count": 8,
   "id": "2df3c275",
   "metadata": {},
   "outputs": [
    {
     "data": {
      "text/html": [
       "<div>\n",
       "<style scoped>\n",
       "    .dataframe tbody tr th:only-of-type {\n",
       "        vertical-align: middle;\n",
       "    }\n",
       "\n",
       "    .dataframe tbody tr th {\n",
       "        vertical-align: top;\n",
       "    }\n",
       "\n",
       "    .dataframe thead th {\n",
       "        text-align: right;\n",
       "    }\n",
       "</style>\n",
       "<table border=\"1\" class=\"dataframe\">\n",
       "  <thead>\n",
       "    <tr style=\"text-align: right;\">\n",
       "      <th></th>\n",
       "      <th>Loan_ID</th>\n",
       "      <th>Gender</th>\n",
       "      <th>Married</th>\n",
       "      <th>Dependents</th>\n",
       "      <th>Education</th>\n",
       "      <th>Self_Employed</th>\n",
       "      <th>ApplicantIncome</th>\n",
       "      <th>CoapplicantIncome</th>\n",
       "      <th>LoanAmount</th>\n",
       "      <th>Loan_Amount_Term</th>\n",
       "      <th>Credit_History</th>\n",
       "      <th>Property_Area</th>\n",
       "      <th>Loan_Status</th>\n",
       "    </tr>\n",
       "  </thead>\n",
       "  <tbody>\n",
       "    <tr>\n",
       "      <th>609</th>\n",
       "      <td>LP002978</td>\n",
       "      <td>Female</td>\n",
       "      <td>No</td>\n",
       "      <td>0</td>\n",
       "      <td>Graduate</td>\n",
       "      <td>No</td>\n",
       "      <td>2900</td>\n",
       "      <td>0.0</td>\n",
       "      <td>71.0</td>\n",
       "      <td>360.0</td>\n",
       "      <td>1.0</td>\n",
       "      <td>Rural</td>\n",
       "      <td>Y</td>\n",
       "    </tr>\n",
       "    <tr>\n",
       "      <th>610</th>\n",
       "      <td>LP002979</td>\n",
       "      <td>Male</td>\n",
       "      <td>Yes</td>\n",
       "      <td>3+</td>\n",
       "      <td>Graduate</td>\n",
       "      <td>No</td>\n",
       "      <td>4106</td>\n",
       "      <td>0.0</td>\n",
       "      <td>40.0</td>\n",
       "      <td>180.0</td>\n",
       "      <td>1.0</td>\n",
       "      <td>Rural</td>\n",
       "      <td>Y</td>\n",
       "    </tr>\n",
       "    <tr>\n",
       "      <th>611</th>\n",
       "      <td>LP002983</td>\n",
       "      <td>Male</td>\n",
       "      <td>Yes</td>\n",
       "      <td>1</td>\n",
       "      <td>Graduate</td>\n",
       "      <td>No</td>\n",
       "      <td>8072</td>\n",
       "      <td>240.0</td>\n",
       "      <td>253.0</td>\n",
       "      <td>360.0</td>\n",
       "      <td>1.0</td>\n",
       "      <td>Urban</td>\n",
       "      <td>Y</td>\n",
       "    </tr>\n",
       "    <tr>\n",
       "      <th>612</th>\n",
       "      <td>LP002984</td>\n",
       "      <td>Male</td>\n",
       "      <td>Yes</td>\n",
       "      <td>2</td>\n",
       "      <td>Graduate</td>\n",
       "      <td>No</td>\n",
       "      <td>7583</td>\n",
       "      <td>0.0</td>\n",
       "      <td>187.0</td>\n",
       "      <td>360.0</td>\n",
       "      <td>1.0</td>\n",
       "      <td>Urban</td>\n",
       "      <td>Y</td>\n",
       "    </tr>\n",
       "    <tr>\n",
       "      <th>613</th>\n",
       "      <td>LP002990</td>\n",
       "      <td>Female</td>\n",
       "      <td>No</td>\n",
       "      <td>0</td>\n",
       "      <td>Graduate</td>\n",
       "      <td>Yes</td>\n",
       "      <td>4583</td>\n",
       "      <td>0.0</td>\n",
       "      <td>133.0</td>\n",
       "      <td>360.0</td>\n",
       "      <td>0.0</td>\n",
       "      <td>Semiurban</td>\n",
       "      <td>N</td>\n",
       "    </tr>\n",
       "  </tbody>\n",
       "</table>\n",
       "</div>"
      ],
      "text/plain": [
       "      Loan_ID  Gender Married Dependents Education Self_Employed  \\\n",
       "609  LP002978  Female      No          0  Graduate            No   \n",
       "610  LP002979    Male     Yes         3+  Graduate            No   \n",
       "611  LP002983    Male     Yes          1  Graduate            No   \n",
       "612  LP002984    Male     Yes          2  Graduate            No   \n",
       "613  LP002990  Female      No          0  Graduate           Yes   \n",
       "\n",
       "     ApplicantIncome  CoapplicantIncome  LoanAmount  Loan_Amount_Term  \\\n",
       "609             2900                0.0        71.0             360.0   \n",
       "610             4106                0.0        40.0             180.0   \n",
       "611             8072              240.0       253.0             360.0   \n",
       "612             7583                0.0       187.0             360.0   \n",
       "613             4583                0.0       133.0             360.0   \n",
       "\n",
       "     Credit_History Property_Area Loan_Status  \n",
       "609             1.0         Rural           Y  \n",
       "610             1.0         Rural           Y  \n",
       "611             1.0         Urban           Y  \n",
       "612             1.0         Urban           Y  \n",
       "613             0.0     Semiurban           N  "
      ]
     },
     "execution_count": 8,
     "metadata": {},
     "output_type": "execute_result"
    }
   ],
   "source": [
    "df_loans.tail()"
   ]
  },
  {
   "cell_type": "markdown",
   "id": "ed96b983",
   "metadata": {},
   "source": [
    "## Missing Values"
   ]
  },
  {
   "cell_type": "code",
   "execution_count": 9,
   "id": "465eb0f5",
   "metadata": {},
   "outputs": [],
   "source": [
    "df_loans = df_loans.replace(r'^\\s*$', np.nan, regex = True)"
   ]
  },
  {
   "cell_type": "code",
   "execution_count": 10,
   "id": "9649358d",
   "metadata": {},
   "outputs": [
    {
     "name": "stdout",
     "output_type": "stream",
     "text": [
      "Total missing values: 149\n"
     ]
    },
    {
     "data": {
      "text/plain": [
       "Loan_ID               0\n",
       "Gender               13\n",
       "Married               3\n",
       "Dependents           15\n",
       "Education             0\n",
       "Self_Employed        32\n",
       "ApplicantIncome       0\n",
       "CoapplicantIncome     0\n",
       "LoanAmount           22\n",
       "Loan_Amount_Term     14\n",
       "Credit_History       50\n",
       "Property_Area         0\n",
       "Loan_Status           0\n",
       "dtype: int64"
      ]
     },
     "execution_count": 10,
     "metadata": {},
     "output_type": "execute_result"
    }
   ],
   "source": [
    "# Missing Values\n",
    "print('Total missing values: {}'.format(df_loans.isnull().sum().sum()))\n",
    "df_loans.isnull().sum()"
   ]
  },
  {
   "cell_type": "markdown",
   "id": "6588ef31",
   "metadata": {},
   "source": [
    "The loans.csv file presents a total of 149 missing values. The attributes that present these missing values are Gender, Married, Dependents, Self_Employed, LoanAmount, Loan_Amount_Term and Credit_History. Due to the amount of missing values present in the data and the total number of samples, dropping them would mean a loss of a significant amount of data for the model, therefore alternative methods of imputations are to be considered. Before defining how to deal with the data, a exploration of these attributes would help determine which is the best approach to do this."
   ]
  },
  {
   "cell_type": "code",
   "execution_count": 11,
   "id": "8c98e082",
   "metadata": {},
   "outputs": [
    {
     "name": "stdout",
     "output_type": "stream",
     "text": [
      "Total missing values: 84\n"
     ]
    },
    {
     "data": {
      "text/plain": [
       "Loan_ID               0\n",
       "Gender               11\n",
       "Married               0\n",
       "Dependents           10\n",
       "Education             0\n",
       "Self_Employed        23\n",
       "ApplicantIncome       0\n",
       "CoapplicantIncome     0\n",
       "LoanAmount            5\n",
       "Loan_Amount_Term      6\n",
       "Credit_History       29\n",
       "Property_Area         0\n",
       "dtype: int64"
      ]
     },
     "execution_count": 11,
     "metadata": {},
     "output_type": "execute_result"
    }
   ],
   "source": [
    "print('Total missing values: {}'.format(df_predict.isnull().sum().sum()))\n",
    "df_predict.isnull().sum()"
   ]
  },
  {
   "cell_type": "markdown",
   "id": "029a15c8",
   "metadata": {},
   "source": [
    "We can observe that the predict file also present missing values in the same attributes as the loan.csv file. The imputation for this dataset will be performed considering the replacements chosen for the loans.csv data."
   ]
  },
  {
   "cell_type": "code",
   "execution_count": 12,
   "id": "0b4ac245",
   "metadata": {},
   "outputs": [
    {
     "name": "stdout",
     "output_type": "stream",
     "text": [
      "Unique Values: ['Male' 'Female' nan]\n"
     ]
    },
    {
     "data": {
      "text/plain": [
       "count      601\n",
       "unique       2\n",
       "top       Male\n",
       "freq       489\n",
       "Name: Gender, dtype: object"
      ]
     },
     "execution_count": 12,
     "metadata": {},
     "output_type": "execute_result"
    }
   ],
   "source": [
    "print('Unique Values: {}'.format(df_loans['Gender'].unique()))\n",
    "df_loans['Gender'].describe()"
   ]
  },
  {
   "cell_type": "markdown",
   "id": "7649b005",
   "metadata": {},
   "source": [
    "The attribute appears to be a binary categorical variable, with the Male gender having a higer frequency among the samples. Since there is no way to accurately define the gender for the missing values, the imputation for the missing values for this attribute will consider the value with the highest frequency."
   ]
  },
  {
   "cell_type": "code",
   "execution_count": 13,
   "id": "f89180cf",
   "metadata": {},
   "outputs": [
    {
     "name": "stdout",
     "output_type": "stream",
     "text": [
      "Unique Values: ['No' 'Yes' nan]\n"
     ]
    },
    {
     "data": {
      "text/plain": [
       "count     611\n",
       "unique      2\n",
       "top       Yes\n",
       "freq      398\n",
       "Name: Married, dtype: object"
      ]
     },
     "execution_count": 13,
     "metadata": {},
     "output_type": "execute_result"
    }
   ],
   "source": [
    "print('Unique Values: {}'.format(df_loans['Married'].unique()))\n",
    "df_loans['Married'].describe()"
   ]
  },
  {
   "cell_type": "markdown",
   "id": "679e2ea3",
   "metadata": {},
   "source": [
    "The attribute appears to be a binary categorical variable, with the Yes value (Married) having a higer frequency among the samples. Since there is no way to accurately infer if the customer is married through the other attributes to replace the missing values, the imputation for the values will consider the value with the highest frequency."
   ]
  },
  {
   "cell_type": "code",
   "execution_count": 14,
   "id": "19cbcbd4",
   "metadata": {},
   "outputs": [
    {
     "name": "stdout",
     "output_type": "stream",
     "text": [
      "Unique Values: ['0' '1' '2' '3+' nan]\n"
     ]
    },
    {
     "data": {
      "text/plain": [
       "count     599\n",
       "unique      4\n",
       "top         0\n",
       "freq      345\n",
       "Name: Dependents, dtype: object"
      ]
     },
     "execution_count": 14,
     "metadata": {},
     "output_type": "execute_result"
    }
   ],
   "source": [
    "print('Unique Values: {}'.format(df_loans['Dependents'].unique()))\n",
    "df_loans['Dependents'].describe()"
   ]
  },
  {
   "cell_type": "markdown",
   "id": "b0fe9d0c",
   "metadata": {},
   "source": [
    "The attribute appears to be a binary categorical variable, with 0 dependents having a higer frequency among the samples. Since there is no way to accurately infer the number of dependents thorugh the other attributes to replace the missing values, the imputation for the values will consider the value with the highest frequency. Additionally, the variable appears to be ordinal, where each value corresponds to the number of dependents the customer has. The datatype of this variable can be modified to be numerical."
   ]
  },
  {
   "cell_type": "code",
   "execution_count": 15,
   "id": "20147c96",
   "metadata": {},
   "outputs": [
    {
     "name": "stdout",
     "output_type": "stream",
     "text": [
      "Unique Values: ['No' 'Yes' nan]\n"
     ]
    },
    {
     "data": {
      "text/plain": [
       "count     582\n",
       "unique      2\n",
       "top        No\n",
       "freq      500\n",
       "Name: Self_Employed, dtype: object"
      ]
     },
     "execution_count": 15,
     "metadata": {},
     "output_type": "execute_result"
    }
   ],
   "source": [
    "print('Unique Values: {}'.format(df_loans['Self_Employed'].unique()))\n",
    "df_loans['Self_Employed'].describe()"
   ]
  },
  {
   "cell_type": "markdown",
   "id": "53c0f3be",
   "metadata": {},
   "source": [
    "The attribute appears to be a binary categorical variable, with the Yes value (Married) having a higer frequency among the samples. Since there is no way to accurately infer if the customer is married through the other attributes to replace the missing values, the imputation for the values will consider the value with the highest frequency."
   ]
  },
  {
   "cell_type": "code",
   "execution_count": 16,
   "id": "19b7b9ec",
   "metadata": {},
   "outputs": [
    {
     "name": "stdout",
     "output_type": "stream",
     "text": [
      "Unique Values: [ nan 128.  66. 120. 141. 267.  95. 158. 168. 349.  70. 109. 200. 114.\n",
      "  17. 125. 100.  76. 133. 115. 104. 315. 116. 112. 151. 191. 122. 110.\n",
      "  35. 201.  74. 106. 320. 144. 184.  80.  47.  75. 134.  96.  88.  44.\n",
      " 286.  97. 135. 180.  99. 165. 258. 126. 312. 136. 172.  81. 187. 113.\n",
      " 176. 130. 111. 167. 265.  50. 210. 175. 131. 188.  25. 137. 160. 225.\n",
      " 216.  94. 139. 152. 118. 185. 154.  85. 259. 194.  93. 370. 182. 650.\n",
      " 102. 290.  84. 242. 129.  30. 244. 600. 255.  98. 275. 121.  63. 700.\n",
      "  87. 101. 495.  67.  73. 260. 108.  58.  48. 164. 170.  83.  90. 166.\n",
      " 124.  55.  59. 127. 214. 240.  72.  60. 138.  42. 280. 140. 155. 123.\n",
      " 279. 192. 304. 330. 150. 207. 436.  78.  54.  89. 143. 105. 132. 480.\n",
      "  56. 159. 300. 376. 117.  71. 490. 173.  46. 228. 308. 236. 570. 380.\n",
      " 296. 156. 103.  45.  65.  53. 360.  62. 218. 178. 239. 405. 148. 190.\n",
      " 149. 153. 162. 230.  86. 234. 246. 500. 186. 119. 107. 209. 208. 243.\n",
      "  40. 250. 311. 400. 161. 196. 324. 157. 145. 181.  26. 211.   9. 205.\n",
      "  36.  61. 146. 292. 142. 350. 496. 253.]\n"
     ]
    },
    {
     "data": {
      "text/plain": [
       "count    592.000000\n",
       "mean     146.412162\n",
       "std       85.587325\n",
       "min        9.000000\n",
       "25%      100.000000\n",
       "50%      128.000000\n",
       "75%      168.000000\n",
       "max      700.000000\n",
       "Name: LoanAmount, dtype: float64"
      ]
     },
     "execution_count": 16,
     "metadata": {},
     "output_type": "execute_result"
    }
   ],
   "source": [
    "print('Unique Values: {}'.format(df_loans['LoanAmount'].unique()))\n",
    "df_loans['LoanAmount'].describe()"
   ]
  },
  {
   "cell_type": "code",
   "execution_count": 17,
   "id": "a03d55bb",
   "metadata": {},
   "outputs": [
    {
     "name": "stdout",
     "output_type": "stream",
     "text": [
      "Unique Values: [360. 120. 240.  nan 180.  60. 300. 480.  36.  84.  12.]\n"
     ]
    },
    {
     "data": {
      "text/plain": [
       "count    600.00000\n",
       "mean     342.00000\n",
       "std       65.12041\n",
       "min       12.00000\n",
       "25%      360.00000\n",
       "50%      360.00000\n",
       "75%      360.00000\n",
       "max      480.00000\n",
       "Name: Loan_Amount_Term, dtype: float64"
      ]
     },
     "execution_count": 17,
     "metadata": {},
     "output_type": "execute_result"
    }
   ],
   "source": [
    "print('Unique Values: {}'.format(df_loans['Loan_Amount_Term'].unique()))\n",
    "df_loans['Loan_Amount_Term'].describe()"
   ]
  },
  {
   "cell_type": "code",
   "execution_count": 18,
   "id": "9ae7c38e",
   "metadata": {},
   "outputs": [
    {
     "name": "stdout",
     "output_type": "stream",
     "text": [
      "Unique Values: [ 1.  0. nan]\n"
     ]
    },
    {
     "data": {
      "text/plain": [
       "count    564.000000\n",
       "mean       0.842199\n",
       "std        0.364878\n",
       "min        0.000000\n",
       "25%        1.000000\n",
       "50%        1.000000\n",
       "75%        1.000000\n",
       "max        1.000000\n",
       "Name: Credit_History, dtype: float64"
      ]
     },
     "execution_count": 18,
     "metadata": {},
     "output_type": "execute_result"
    }
   ],
   "source": [
    "print('Unique Values: {}'.format(df_loans['Credit_History'].unique()))\n",
    "df_loans['Credit_History'].describe()"
   ]
  },
  {
   "cell_type": "markdown",
   "id": "8cace078",
   "metadata": {},
   "source": [
    "### Value imputation\n",
    "\n",
    "For the value imputation of the binary attributes, the value with the highest frquency was taken into consideration to replace the values. In the case of Loan_Amount_Term, the median value of the attribute seems to be the most appropiate to replace the missing values. Finally, for the LoanAmount missing values, the mean value is considered to be the most appropiate to replace the missing values."
   ]
  },
  {
   "cell_type": "code",
   "execution_count": 19,
   "id": "068d0ed4",
   "metadata": {},
   "outputs": [],
   "source": [
    "df_loans['Gender'].fillna('Male',inplace = True)\n",
    "df_loans['Married'].fillna('Yes',inplace = True)\n",
    "df_loans['Dependents'].fillna('0',inplace = True)\n",
    "df_loans['Self_Employed'].fillna('No',inplace = True)\n",
    "df_loans['LoanAmount'].fillna(df_loans['LoanAmount'].mean(),inplace = True)\n",
    "df_loans['Loan_Amount_Term'].fillna(df_loans['Loan_Amount_Term'].median(),inplace = True)\n",
    "df_loans['Credit_History'].fillna(1.0,inplace = True)"
   ]
  },
  {
   "cell_type": "code",
   "execution_count": 20,
   "id": "521cea5f",
   "metadata": {},
   "outputs": [
    {
     "data": {
      "text/plain": [
       "Loan_ID              0\n",
       "Gender               0\n",
       "Married              0\n",
       "Dependents           0\n",
       "Education            0\n",
       "Self_Employed        0\n",
       "ApplicantIncome      0\n",
       "CoapplicantIncome    0\n",
       "LoanAmount           0\n",
       "Loan_Amount_Term     0\n",
       "Credit_History       0\n",
       "Property_Area        0\n",
       "Loan_Status          0\n",
       "dtype: int64"
      ]
     },
     "execution_count": 20,
     "metadata": {},
     "output_type": "execute_result"
    }
   ],
   "source": [
    "df_loans.isnull().sum()"
   ]
  },
  {
   "cell_type": "code",
   "execution_count": 21,
   "id": "99c0e68f",
   "metadata": {
    "scrolled": true
   },
   "outputs": [
    {
     "name": "stdout",
     "output_type": "stream",
     "text": [
      "<class 'pandas.core.frame.DataFrame'>\n",
      "RangeIndex: 614 entries, 0 to 613\n",
      "Data columns (total 13 columns):\n",
      " #   Column             Non-Null Count  Dtype  \n",
      "---  ------             --------------  -----  \n",
      " 0   Loan_ID            614 non-null    object \n",
      " 1   Gender             614 non-null    object \n",
      " 2   Married            614 non-null    object \n",
      " 3   Dependents         614 non-null    object \n",
      " 4   Education          614 non-null    object \n",
      " 5   Self_Employed      614 non-null    object \n",
      " 6   ApplicantIncome    614 non-null    int64  \n",
      " 7   CoapplicantIncome  614 non-null    float64\n",
      " 8   LoanAmount         614 non-null    float64\n",
      " 9   Loan_Amount_Term   614 non-null    float64\n",
      " 10  Credit_History     614 non-null    float64\n",
      " 11  Property_Area      614 non-null    object \n",
      " 12  Loan_Status        614 non-null    object \n",
      "dtypes: float64(4), int64(1), object(8)\n",
      "memory usage: 62.5+ KB\n"
     ]
    }
   ],
   "source": [
    "df_loans.info()"
   ]
  },
  {
   "cell_type": "markdown",
   "id": "ba9a7369",
   "metadata": {},
   "source": [
    "## Attribute exploration"
   ]
  },
  {
   "cell_type": "code",
   "execution_count": 22,
   "id": "2e10eed2",
   "metadata": {},
   "outputs": [],
   "source": [
    "# Drop Loan_ID from the data\n",
    "df_loans = df_loans.drop(['Loan_ID'], axis = 1)"
   ]
  },
  {
   "cell_type": "markdown",
   "id": "2281ca38",
   "metadata": {},
   "source": [
    "### Numerical Attributes"
   ]
  },
  {
   "cell_type": "markdown",
   "id": "737c1b4f",
   "metadata": {},
   "source": [
    "According to what can be observed from the data, additionally to the 5 numeric variables, the Dependents variable appear to contain numeric values. The values from this attribute will be modified so that it takes a numeric datatype instead of a string. In the case of the value of '3+', the value will adopt the numeric value of 3."
   ]
  },
  {
   "cell_type": "code",
   "execution_count": 23,
   "id": "b16ce5bc",
   "metadata": {},
   "outputs": [],
   "source": [
    "num_attr = df_loans.select_dtypes(include = ['int64', 'float64'])"
   ]
  },
  {
   "cell_type": "code",
   "execution_count": 24,
   "id": "dd390228",
   "metadata": {},
   "outputs": [
    {
     "data": {
      "text/html": [
       "<div>\n",
       "<style scoped>\n",
       "    .dataframe tbody tr th:only-of-type {\n",
       "        vertical-align: middle;\n",
       "    }\n",
       "\n",
       "    .dataframe tbody tr th {\n",
       "        vertical-align: top;\n",
       "    }\n",
       "\n",
       "    .dataframe thead th {\n",
       "        text-align: right;\n",
       "    }\n",
       "</style>\n",
       "<table border=\"1\" class=\"dataframe\">\n",
       "  <thead>\n",
       "    <tr style=\"text-align: right;\">\n",
       "      <th></th>\n",
       "      <th>ApplicantIncome</th>\n",
       "      <th>CoapplicantIncome</th>\n",
       "      <th>LoanAmount</th>\n",
       "      <th>Loan_Amount_Term</th>\n",
       "      <th>Credit_History</th>\n",
       "    </tr>\n",
       "  </thead>\n",
       "  <tbody>\n",
       "    <tr>\n",
       "      <th>count</th>\n",
       "      <td>614.000000</td>\n",
       "      <td>614.000000</td>\n",
       "      <td>614.000000</td>\n",
       "      <td>614.000000</td>\n",
       "      <td>614.000000</td>\n",
       "    </tr>\n",
       "    <tr>\n",
       "      <th>mean</th>\n",
       "      <td>5403.459283</td>\n",
       "      <td>1621.245798</td>\n",
       "      <td>146.412162</td>\n",
       "      <td>342.410423</td>\n",
       "      <td>0.855049</td>\n",
       "    </tr>\n",
       "    <tr>\n",
       "      <th>std</th>\n",
       "      <td>6109.041673</td>\n",
       "      <td>2926.248369</td>\n",
       "      <td>84.037468</td>\n",
       "      <td>64.428629</td>\n",
       "      <td>0.352339</td>\n",
       "    </tr>\n",
       "    <tr>\n",
       "      <th>min</th>\n",
       "      <td>150.000000</td>\n",
       "      <td>0.000000</td>\n",
       "      <td>9.000000</td>\n",
       "      <td>12.000000</td>\n",
       "      <td>0.000000</td>\n",
       "    </tr>\n",
       "    <tr>\n",
       "      <th>25%</th>\n",
       "      <td>2877.500000</td>\n",
       "      <td>0.000000</td>\n",
       "      <td>100.250000</td>\n",
       "      <td>360.000000</td>\n",
       "      <td>1.000000</td>\n",
       "    </tr>\n",
       "    <tr>\n",
       "      <th>50%</th>\n",
       "      <td>3812.500000</td>\n",
       "      <td>1188.500000</td>\n",
       "      <td>129.000000</td>\n",
       "      <td>360.000000</td>\n",
       "      <td>1.000000</td>\n",
       "    </tr>\n",
       "    <tr>\n",
       "      <th>75%</th>\n",
       "      <td>5795.000000</td>\n",
       "      <td>2297.250000</td>\n",
       "      <td>164.750000</td>\n",
       "      <td>360.000000</td>\n",
       "      <td>1.000000</td>\n",
       "    </tr>\n",
       "    <tr>\n",
       "      <th>max</th>\n",
       "      <td>81000.000000</td>\n",
       "      <td>41667.000000</td>\n",
       "      <td>700.000000</td>\n",
       "      <td>480.000000</td>\n",
       "      <td>1.000000</td>\n",
       "    </tr>\n",
       "  </tbody>\n",
       "</table>\n",
       "</div>"
      ],
      "text/plain": [
       "       ApplicantIncome  CoapplicantIncome  LoanAmount  Loan_Amount_Term  \\\n",
       "count       614.000000         614.000000  614.000000        614.000000   \n",
       "mean       5403.459283        1621.245798  146.412162        342.410423   \n",
       "std        6109.041673        2926.248369   84.037468         64.428629   \n",
       "min         150.000000           0.000000    9.000000         12.000000   \n",
       "25%        2877.500000           0.000000  100.250000        360.000000   \n",
       "50%        3812.500000        1188.500000  129.000000        360.000000   \n",
       "75%        5795.000000        2297.250000  164.750000        360.000000   \n",
       "max       81000.000000       41667.000000  700.000000        480.000000   \n",
       "\n",
       "       Credit_History  \n",
       "count      614.000000  \n",
       "mean         0.855049  \n",
       "std          0.352339  \n",
       "min          0.000000  \n",
       "25%          1.000000  \n",
       "50%          1.000000  \n",
       "75%          1.000000  \n",
       "max          1.000000  "
      ]
     },
     "execution_count": 24,
     "metadata": {},
     "output_type": "execute_result"
    }
   ],
   "source": [
    "num_attr.describe()"
   ]
  },
  {
   "cell_type": "code",
   "execution_count": 25,
   "id": "429ffec1",
   "metadata": {
    "scrolled": true
   },
   "outputs": [
    {
     "name": "stdout",
     "output_type": "stream",
     "text": [
      "ApplicantIncome's number of unique values: 505\n",
      "CoapplicantIncome's number of unique values: 287\n",
      "LoanAmount's number of unique values: 204\n",
      "Loan_Amount_Term's number of unique values: 10\n",
      "Credit_History's number of unique values: 2\n"
     ]
    }
   ],
   "source": [
    "num_col = num_attr.columns\n",
    "for col in num_col:\n",
    "    print(\"{}'s number of unique values: {}\".format(col,len(num_attr[col].unique())))"
   ]
  },
  {
   "cell_type": "code",
   "execution_count": 26,
   "id": "33cbbffb",
   "metadata": {
    "scrolled": false
   },
   "outputs": [
    {
     "data": {
      "image/png": "[encoded data removed]",
      "text/plain": [
       "<Figure size 432x288 with 2 Axes>"
      ]
     },
     "metadata": {
      "needs_background": "light"
     },
     "output_type": "display_data"
    },
    {
     "data": {
      "image/png": "[encoded data removed]",
      "text/plain": [
       "<Figure size 432x288 with 2 Axes>"
      ]
     },
     "metadata": {
      "needs_background": "light"
     },
     "output_type": "display_data"
    },
    {
     "data": {
      "image/png": "[encoded data removed]",
      "text/plain": [
       "<Figure size 432x288 with 2 Axes>"
      ]
     },
     "metadata": {
      "needs_background": "light"
     },
     "output_type": "display_data"
    },
    {
     "data": {
      "image/png": "[encoded data removed]",
      "text/plain": [
       "<Figure size 432x288 with 2 Axes>"
      ]
     },
     "metadata": {
      "needs_background": "light"
     },
     "output_type": "display_data"
    },
    {
     "data": {
      "image/png": "[encoded data removed]",
      "text/plain": [
       "<Figure size 432x288 with 2 Axes>"
      ]
     },
     "metadata": {
      "needs_background": "light"
     },
     "output_type": "display_data"
    }
   ],
   "source": [
    "for col in num_col:\n",
    "  fig, ax = plt.subplots(1,2, figsize = (6,4))\n",
    "  sns.distplot(num_attr[col], ax = ax[0])\n",
    "  sns.boxplot(num_attr[col])\n",
    "\n",
    "  plt.tight_layout()"
   ]
  },
  {
   "cell_type": "markdown",
   "id": "c8388be8",
   "metadata": {},
   "source": [
    "The attributes of ApplicantIncome, CoapplicantIncome and LoanAmount appear to have a normal distribution skewed to the left. On the other hand, the distribution of the Loan_Amount_Term appears to prevail the value of 360 months, and for Credit_History, most of the applicants appear to have good credit history."
   ]
  },
  {
   "cell_type": "markdown",
   "id": "9bd49aed",
   "metadata": {},
   "source": [
    "### Categorical Attributes"
   ]
  },
  {
   "cell_type": "code",
   "execution_count": 27,
   "id": "7d2c20ff",
   "metadata": {},
   "outputs": [],
   "source": [
    "obj_attr = list(df_loans.select_dtypes('object'))"
   ]
  },
  {
   "cell_type": "code",
   "execution_count": 28,
   "id": "392600cf",
   "metadata": {},
   "outputs": [
    {
     "data": {
      "image/png": "[encoded data removed]",
      "text/plain": [
       "<Figure size 720x576 with 9 Axes>"
      ]
     },
     "metadata": {
      "needs_background": "light"
     },
     "output_type": "display_data"
    }
   ],
   "source": [
    "fig, ax = plt.subplots(3,3, figsize=(10,8))\n",
    "ax = np.ravel(ax)\n",
    "for i,attr in enumerate(obj_attr):\n",
    "    sns.countplot(data = df_loans, x = df_loans[attr].values, ax = ax[i], order = df_loans[attr].value_counts().index)\n",
    "    ax[i].set_title(attr)\n",
    "plt.tight_layout()"
   ]
  },
  {
   "cell_type": "markdown",
   "id": "65c858e8",
   "metadata": {},
   "source": [
    "There appears to be a mild imbalance in the dataset. Given that the degree of imbalance is not too high (around 66% belonging to Y and 33% belonging to N), it may not be necessary to take steps to deal with the data imbalance.\n",
    "In the case of gender, most of the applicants appear to be male. Additionally, most of the applicants are married and have no dependents. Most of the applicants also appear to have a graduate level of education and are not self employed. Finally, the distribution of the property area seems to be well distributed among the three sectors."
   ]
  },
  {
   "cell_type": "markdown",
   "id": "e1064915",
   "metadata": {},
   "source": [
    "### Numeric Attributes vs Target Variable"
   ]
  },
  {
   "cell_type": "code",
   "execution_count": 29,
   "id": "72fb2d2a",
   "metadata": {},
   "outputs": [
    {
     "data": {
      "text/plain": [
       "<AxesSubplot:xlabel='Loan_Status', ylabel='ApplicantIncome'>"
      ]
     },
     "execution_count": 29,
     "metadata": {},
     "output_type": "execute_result"
    },
    {
     "data": {
      "image/png": "[encoded data removed]",
      "text/plain": [
       "<Figure size 432x288 with 1 Axes>"
      ]
     },
     "metadata": {
      "needs_background": "light"
     },
     "output_type": "display_data"
    }
   ],
   "source": [
    "sns.boxplot(x = df_loans['Loan_Status'], y =df_loans['ApplicantIncome'])"
   ]
  },
  {
   "cell_type": "markdown",
   "id": "b831451f",
   "metadata": {},
   "source": [
    "The distribution of the ApplicantIncome vs the Loan_Status appear to have similar distribution among those with an approved and declined loan; however, it appear to be that those that there are more outliers in the applicants that have the Loan_Status as approved. This would be consistent with the rationale that higher incomes influence the loan eligibility; However, the only way to improve upon this inference would be to study a larger dataset."
   ]
  },
  {
   "cell_type": "code",
   "execution_count": 30,
   "id": "ce0256cf",
   "metadata": {},
   "outputs": [
    {
     "data": {
      "text/plain": [
       "<AxesSubplot:xlabel='Loan_Status', ylabel='CoapplicantIncome'>"
      ]
     },
     "execution_count": 30,
     "metadata": {},
     "output_type": "execute_result"
    },
    {
     "data": {
      "image/png": "[encoded data removed]",
      "text/plain": [
       "<Figure size 432x288 with 1 Axes>"
      ]
     },
     "metadata": {
      "needs_background": "light"
     },
     "output_type": "display_data"
    }
   ],
   "source": [
    "sns.boxplot(x = df_loans['Loan_Status'], y =df_loans['CoapplicantIncome'])"
   ]
  },
  {
   "cell_type": "markdown",
   "id": "2c9154da",
   "metadata": {},
   "source": [
    "The CoapplicantIncome also present a similar distribution between the approved and denied applicants. But an important aspect is the median value of the approved applicants. This might imply that higher income from the co-applicant might improve the chances of being approved."
   ]
  },
  {
   "cell_type": "code",
   "execution_count": 31,
   "id": "48300d7a",
   "metadata": {},
   "outputs": [
    {
     "data": {
      "text/plain": [
       "<AxesSubplot:xlabel='Loan_Status', ylabel='LoanAmount'>"
      ]
     },
     "execution_count": 31,
     "metadata": {},
     "output_type": "execute_result"
    },
    {
     "data": {
      "image/png": "[encoded data removed]",
      "text/plain": [
       "<Figure size 432x288 with 1 Axes>"
      ]
     },
     "metadata": {
      "needs_background": "light"
     },
     "output_type": "display_data"
    }
   ],
   "source": [
    "sns.boxplot(x = df_loans['Loan_Status'], y =df_loans['LoanAmount'])"
   ]
  },
  {
   "cell_type": "markdown",
   "id": "9fd85393",
   "metadata": {},
   "source": [
    "Like the previous attributes, both the LoanAmount of the approved and denied applicants follow a similar distribution. There is no significant difference among both groups with the exception of the outliers, where the approved applicants show significantly higher number of outilers with a high LoanAmount than those that were denied."
   ]
  },
  {
   "cell_type": "code",
   "execution_count": 32,
   "id": "0f81ccce",
   "metadata": {},
   "outputs": [
    {
     "data": {
      "text/plain": [
       "<AxesSubplot:xlabel='Loan_Status', ylabel='Loan_Amount_Term'>"
      ]
     },
     "execution_count": 32,
     "metadata": {},
     "output_type": "execute_result"
    },
    {
     "data": {
      "image/png": "[encoded data removed]",
      "text/plain": [
       "<Figure size 432x288 with 1 Axes>"
      ]
     },
     "metadata": {
      "needs_background": "light"
     },
     "output_type": "display_data"
    }
   ],
   "source": [
    "sns.boxplot(x = df_loans['Loan_Status'], y =df_loans['Loan_Amount_Term'])"
   ]
  },
  {
   "cell_type": "code",
   "execution_count": 33,
   "id": "5437b5b5",
   "metadata": {},
   "outputs": [
    {
     "data": {
      "text/plain": [
       "<AxesSubplot:xlabel='Loan_Status', ylabel='Credit_History'>"
      ]
     },
     "execution_count": 33,
     "metadata": {},
     "output_type": "execute_result"
    },
    {
     "data": {
      "image/png": "[encoded data removed]",
      "text/plain": [
       "<Figure size 432x288 with 1 Axes>"
      ]
     },
     "metadata": {
      "needs_background": "light"
     },
     "output_type": "display_data"
    }
   ],
   "source": [
    "sns.boxplot(x = df_loans['Loan_Status'], y =df_loans['Credit_History'])"
   ]
  },
  {
   "cell_type": "markdown",
   "id": "c9ced20a",
   "metadata": {},
   "source": [
    "From this last plot, the best insight that can be extracted is that applicants with a good credit history are most likely to get approved, since the only instances of being approved with a bad credit history is an outlier."
   ]
  },
  {
   "cell_type": "code",
   "execution_count": 34,
   "id": "41d5f5bc",
   "metadata": {},
   "outputs": [
    {
     "data": {
      "text/plain": [
       "<AxesSubplot:>"
      ]
     },
     "execution_count": 34,
     "metadata": {},
     "output_type": "execute_result"
    },
    {
     "data": {
      "image/png": "[encoded data removed]",
      "text/plain": [
       "<Figure size 864x720 with 2 Axes>"
      ]
     },
     "metadata": {
      "needs_background": "light"
     },
     "output_type": "display_data"
    }
   ],
   "source": [
    "corrm = df_loans.corr()\n",
    "\n",
    "f, ax = plt.subplots(figsize = (12,10))\n",
    "sns.heatmap(corrm, ax = ax, linewidth = 0.25, annot = True )"
   ]
  },
  {
   "cell_type": "markdown",
   "id": "222e6e4c",
   "metadata": {},
   "source": [
    "The correlation matrix show a high correlation between LoanAmount and ApplicantIncome. For the model implementation, the exclusion of one of these variables might help improve performance by avoiding collinearity. Overall, the matrix shows no other strong correlation among the numeric variables."
   ]
  },
  {
   "cell_type": "markdown",
   "id": "95ab42d9",
   "metadata": {},
   "source": [
    "# Data Preparation\n",
    "\n",
    "Process to encode the categorical attributes and binary attributes."
   ]
  },
  {
   "cell_type": "code",
   "execution_count": 35,
   "id": "e1aa1714",
   "metadata": {},
   "outputs": [],
   "source": [
    "binary_attr = df_loans.nunique()[df_loans.nunique() == 2].keys().tolist()\n",
    "numeric_attr = [col for col in df_loans.select_dtypes(['float64','int64']).columns.tolist() if col not in binary_attr]\n",
    "cat_attr = [ col for col in df_loans.select_dtypes('object').columns.to_list() if col not in binary_attr + numeric_attr ]\n",
    "\n",
    "df_loans_labeled = df_loans.copy()"
   ]
  },
  {
   "cell_type": "markdown",
   "id": "8605f7c0",
   "metadata": {},
   "source": [
    "## Binary Encoding\n",
    "\n",
    "Binary Attributes are assigned 0's and 1's to replace each of their values"
   ]
  },
  {
   "cell_type": "code",
   "execution_count": 36,
   "id": "eb8c4a5a",
   "metadata": {},
   "outputs": [
    {
     "name": "stdout",
     "output_type": "stream",
     "text": [
      "Gender \n",
      " [0 1]\n",
      "Married \n",
      " [0 1]\n",
      "Education \n",
      " [0 1]\n",
      "Self_Employed \n",
      " [0 1]\n",
      "Credit_History \n",
      " [0 1]\n",
      "Loan_Status \n",
      " [0 1]\n"
     ]
    }
   ],
   "source": [
    "label_encode = LabelEncoder()\n",
    "for i in binary_attr:\n",
    "    df_loans_labeled[i] = label_encode.fit_transform(df_loans_labeled[i])\n",
    "    print(i, '\\n', np.unique(df_loans_labeled[i].values))"
   ]
  },
  {
   "cell_type": "markdown",
   "id": "fedc6cdc",
   "metadata": {},
   "source": [
    "## Categorical into Dummy Variables\n",
    "\n",
    "To deal with the categorical values that present more than a single value, dummy variables are created to take the form of binary values by adding new features to the dataset."
   ]
  },
  {
   "cell_type": "code",
   "execution_count": 37,
   "id": "f6333daa",
   "metadata": {},
   "outputs": [
    {
     "name": "stdout",
     "output_type": "stream",
     "text": [
      "['Dependents', 'Property_Area']\n",
      "Index(['Gender', 'Married', 'Education', 'Self_Employed', 'ApplicantIncome',\n",
      "       'CoapplicantIncome', 'LoanAmount', 'Loan_Amount_Term', 'Credit_History',\n",
      "       'Loan_Status', 'Dependents_0', 'Dependents_1', 'Dependents_2',\n",
      "       'Dependents_3+', 'Property_Area_Rural', 'Property_Area_Semiurban',\n",
      "       'Property_Area_Urban'],\n",
      "      dtype='object')\n"
     ]
    }
   ],
   "source": [
    "print(cat_attr)\n",
    "df_loans_labeled = pd.get_dummies(df_loans_labeled, columns=cat_attr)\n",
    "print(df_loans_labeled.columns)"
   ]
  },
  {
   "cell_type": "markdown",
   "id": "ecbc4916",
   "metadata": {},
   "source": [
    "## Processed Data"
   ]
  },
  {
   "cell_type": "code",
   "execution_count": 38,
   "id": "64462c59",
   "metadata": {},
   "outputs": [
    {
     "data": {
      "text/html": [
       "<div>\n",
       "<style scoped>\n",
       "    .dataframe tbody tr th:only-of-type {\n",
       "        vertical-align: middle;\n",
       "    }\n",
       "\n",
       "    .dataframe tbody tr th {\n",
       "        vertical-align: top;\n",
       "    }\n",
       "\n",
       "    .dataframe thead th {\n",
       "        text-align: right;\n",
       "    }\n",
       "</style>\n",
       "<table border=\"1\" class=\"dataframe\">\n",
       "  <thead>\n",
       "    <tr style=\"text-align: right;\">\n",
       "      <th></th>\n",
       "      <th>Gender</th>\n",
       "      <th>Married</th>\n",
       "      <th>Education</th>\n",
       "      <th>Self_Employed</th>\n",
       "      <th>ApplicantIncome</th>\n",
       "      <th>CoapplicantIncome</th>\n",
       "      <th>LoanAmount</th>\n",
       "      <th>Loan_Amount_Term</th>\n",
       "      <th>Credit_History</th>\n",
       "      <th>Loan_Status</th>\n",
       "      <th>Dependents_0</th>\n",
       "      <th>Dependents_1</th>\n",
       "      <th>Dependents_2</th>\n",
       "      <th>Dependents_3+</th>\n",
       "      <th>Property_Area_Rural</th>\n",
       "      <th>Property_Area_Semiurban</th>\n",
       "      <th>Property_Area_Urban</th>\n",
       "    </tr>\n",
       "  </thead>\n",
       "  <tbody>\n",
       "    <tr>\n",
       "      <th>0</th>\n",
       "      <td>1</td>\n",
       "      <td>0</td>\n",
       "      <td>0</td>\n",
       "      <td>0</td>\n",
       "      <td>5849</td>\n",
       "      <td>0.0</td>\n",
       "      <td>146.412162</td>\n",
       "      <td>360.0</td>\n",
       "      <td>1</td>\n",
       "      <td>1</td>\n",
       "      <td>1</td>\n",
       "      <td>0</td>\n",
       "      <td>0</td>\n",
       "      <td>0</td>\n",
       "      <td>0</td>\n",
       "      <td>0</td>\n",
       "      <td>1</td>\n",
       "    </tr>\n",
       "    <tr>\n",
       "      <th>1</th>\n",
       "      <td>1</td>\n",
       "      <td>1</td>\n",
       "      <td>0</td>\n",
       "      <td>0</td>\n",
       "      <td>4583</td>\n",
       "      <td>1508.0</td>\n",
       "      <td>128.000000</td>\n",
       "      <td>360.0</td>\n",
       "      <td>1</td>\n",
       "      <td>0</td>\n",
       "      <td>0</td>\n",
       "      <td>1</td>\n",
       "      <td>0</td>\n",
       "      <td>0</td>\n",
       "      <td>1</td>\n",
       "      <td>0</td>\n",
       "      <td>0</td>\n",
       "    </tr>\n",
       "    <tr>\n",
       "      <th>2</th>\n",
       "      <td>1</td>\n",
       "      <td>1</td>\n",
       "      <td>0</td>\n",
       "      <td>1</td>\n",
       "      <td>3000</td>\n",
       "      <td>0.0</td>\n",
       "      <td>66.000000</td>\n",
       "      <td>360.0</td>\n",
       "      <td>1</td>\n",
       "      <td>1</td>\n",
       "      <td>1</td>\n",
       "      <td>0</td>\n",
       "      <td>0</td>\n",
       "      <td>0</td>\n",
       "      <td>0</td>\n",
       "      <td>0</td>\n",
       "      <td>1</td>\n",
       "    </tr>\n",
       "    <tr>\n",
       "      <th>3</th>\n",
       "      <td>1</td>\n",
       "      <td>1</td>\n",
       "      <td>1</td>\n",
       "      <td>0</td>\n",
       "      <td>2583</td>\n",
       "      <td>2358.0</td>\n",
       "      <td>120.000000</td>\n",
       "      <td>360.0</td>\n",
       "      <td>1</td>\n",
       "      <td>1</td>\n",
       "      <td>1</td>\n",
       "      <td>0</td>\n",
       "      <td>0</td>\n",
       "      <td>0</td>\n",
       "      <td>0</td>\n",
       "      <td>0</td>\n",
       "      <td>1</td>\n",
       "    </tr>\n",
       "    <tr>\n",
       "      <th>4</th>\n",
       "      <td>1</td>\n",
       "      <td>0</td>\n",
       "      <td>0</td>\n",
       "      <td>0</td>\n",
       "      <td>6000</td>\n",
       "      <td>0.0</td>\n",
       "      <td>141.000000</td>\n",
       "      <td>360.0</td>\n",
       "      <td>1</td>\n",
       "      <td>1</td>\n",
       "      <td>1</td>\n",
       "      <td>0</td>\n",
       "      <td>0</td>\n",
       "      <td>0</td>\n",
       "      <td>0</td>\n",
       "      <td>0</td>\n",
       "      <td>1</td>\n",
       "    </tr>\n",
       "  </tbody>\n",
       "</table>\n",
       "</div>"
      ],
      "text/plain": [
       "   Gender  Married  Education  Self_Employed  ApplicantIncome  \\\n",
       "0       1        0          0              0             5849   \n",
       "1       1        1          0              0             4583   \n",
       "2       1        1          0              1             3000   \n",
       "3       1        1          1              0             2583   \n",
       "4       1        0          0              0             6000   \n",
       "\n",
       "   CoapplicantIncome  LoanAmount  Loan_Amount_Term  Credit_History  \\\n",
       "0                0.0  146.412162             360.0               1   \n",
       "1             1508.0  128.000000             360.0               1   \n",
       "2                0.0   66.000000             360.0               1   \n",
       "3             2358.0  120.000000             360.0               1   \n",
       "4                0.0  141.000000             360.0               1   \n",
       "\n",
       "   Loan_Status  Dependents_0  Dependents_1  Dependents_2  Dependents_3+  \\\n",
       "0            1             1             0             0              0   \n",
       "1            0             0             1             0              0   \n",
       "2            1             1             0             0              0   \n",
       "3            1             1             0             0              0   \n",
       "4            1             1             0             0              0   \n",
       "\n",
       "   Property_Area_Rural  Property_Area_Semiurban  Property_Area_Urban  \n",
       "0                    0                        0                    1  \n",
       "1                    1                        0                    0  \n",
       "2                    0                        0                    1  \n",
       "3                    0                        0                    1  \n",
       "4                    0                        0                    1  "
      ]
     },
     "execution_count": 38,
     "metadata": {},
     "output_type": "execute_result"
    }
   ],
   "source": [
    "df_loans_labeled.head()"
   ]
  },
  {
   "cell_type": "code",
   "execution_count": 39,
   "id": "b21a0fb9",
   "metadata": {},
   "outputs": [
    {
     "data": {
      "text/html": [
       "<div>\n",
       "<style scoped>\n",
       "    .dataframe tbody tr th:only-of-type {\n",
       "        vertical-align: middle;\n",
       "    }\n",
       "\n",
       "    .dataframe tbody tr th {\n",
       "        vertical-align: top;\n",
       "    }\n",
       "\n",
       "    .dataframe thead th {\n",
       "        text-align: right;\n",
       "    }\n",
       "</style>\n",
       "<table border=\"1\" class=\"dataframe\">\n",
       "  <thead>\n",
       "    <tr style=\"text-align: right;\">\n",
       "      <th></th>\n",
       "      <th>Gender</th>\n",
       "      <th>Married</th>\n",
       "      <th>Education</th>\n",
       "      <th>Self_Employed</th>\n",
       "      <th>ApplicantIncome</th>\n",
       "      <th>CoapplicantIncome</th>\n",
       "      <th>LoanAmount</th>\n",
       "      <th>Loan_Amount_Term</th>\n",
       "      <th>Credit_History</th>\n",
       "      <th>Loan_Status</th>\n",
       "      <th>Dependents_0</th>\n",
       "      <th>Dependents_1</th>\n",
       "      <th>Dependents_2</th>\n",
       "      <th>Dependents_3+</th>\n",
       "      <th>Property_Area_Rural</th>\n",
       "      <th>Property_Area_Semiurban</th>\n",
       "      <th>Property_Area_Urban</th>\n",
       "    </tr>\n",
       "  </thead>\n",
       "  <tbody>\n",
       "    <tr>\n",
       "      <th>609</th>\n",
       "      <td>0</td>\n",
       "      <td>0</td>\n",
       "      <td>0</td>\n",
       "      <td>0</td>\n",
       "      <td>2900</td>\n",
       "      <td>0.0</td>\n",
       "      <td>71.0</td>\n",
       "      <td>360.0</td>\n",
       "      <td>1</td>\n",
       "      <td>1</td>\n",
       "      <td>1</td>\n",
       "      <td>0</td>\n",
       "      <td>0</td>\n",
       "      <td>0</td>\n",
       "      <td>1</td>\n",
       "      <td>0</td>\n",
       "      <td>0</td>\n",
       "    </tr>\n",
       "    <tr>\n",
       "      <th>610</th>\n",
       "      <td>1</td>\n",
       "      <td>1</td>\n",
       "      <td>0</td>\n",
       "      <td>0</td>\n",
       "      <td>4106</td>\n",
       "      <td>0.0</td>\n",
       "      <td>40.0</td>\n",
       "      <td>180.0</td>\n",
       "      <td>1</td>\n",
       "      <td>1</td>\n",
       "      <td>0</td>\n",
       "      <td>0</td>\n",
       "      <td>0</td>\n",
       "      <td>1</td>\n",
       "      <td>1</td>\n",
       "      <td>0</td>\n",
       "      <td>0</td>\n",
       "    </tr>\n",
       "    <tr>\n",
       "      <th>611</th>\n",
       "      <td>1</td>\n",
       "      <td>1</td>\n",
       "      <td>0</td>\n",
       "      <td>0</td>\n",
       "      <td>8072</td>\n",
       "      <td>240.0</td>\n",
       "      <td>253.0</td>\n",
       "      <td>360.0</td>\n",
       "      <td>1</td>\n",
       "      <td>1</td>\n",
       "      <td>0</td>\n",
       "      <td>1</td>\n",
       "      <td>0</td>\n",
       "      <td>0</td>\n",
       "      <td>0</td>\n",
       "      <td>0</td>\n",
       "      <td>1</td>\n",
       "    </tr>\n",
       "    <tr>\n",
       "      <th>612</th>\n",
       "      <td>1</td>\n",
       "      <td>1</td>\n",
       "      <td>0</td>\n",
       "      <td>0</td>\n",
       "      <td>7583</td>\n",
       "      <td>0.0</td>\n",
       "      <td>187.0</td>\n",
       "      <td>360.0</td>\n",
       "      <td>1</td>\n",
       "      <td>1</td>\n",
       "      <td>0</td>\n",
       "      <td>0</td>\n",
       "      <td>1</td>\n",
       "      <td>0</td>\n",
       "      <td>0</td>\n",
       "      <td>0</td>\n",
       "      <td>1</td>\n",
       "    </tr>\n",
       "    <tr>\n",
       "      <th>613</th>\n",
       "      <td>0</td>\n",
       "      <td>0</td>\n",
       "      <td>0</td>\n",
       "      <td>1</td>\n",
       "      <td>4583</td>\n",
       "      <td>0.0</td>\n",
       "      <td>133.0</td>\n",
       "      <td>360.0</td>\n",
       "      <td>0</td>\n",
       "      <td>0</td>\n",
       "      <td>1</td>\n",
       "      <td>0</td>\n",
       "      <td>0</td>\n",
       "      <td>0</td>\n",
       "      <td>0</td>\n",
       "      <td>1</td>\n",
       "      <td>0</td>\n",
       "    </tr>\n",
       "  </tbody>\n",
       "</table>\n",
       "</div>"
      ],
      "text/plain": [
       "     Gender  Married  Education  Self_Employed  ApplicantIncome  \\\n",
       "609       0        0          0              0             2900   \n",
       "610       1        1          0              0             4106   \n",
       "611       1        1          0              0             8072   \n",
       "612       1        1          0              0             7583   \n",
       "613       0        0          0              1             4583   \n",
       "\n",
       "     CoapplicantIncome  LoanAmount  Loan_Amount_Term  Credit_History  \\\n",
       "609                0.0        71.0             360.0               1   \n",
       "610                0.0        40.0             180.0               1   \n",
       "611              240.0       253.0             360.0               1   \n",
       "612                0.0       187.0             360.0               1   \n",
       "613                0.0       133.0             360.0               0   \n",
       "\n",
       "     Loan_Status  Dependents_0  Dependents_1  Dependents_2  Dependents_3+  \\\n",
       "609            1             1             0             0              0   \n",
       "610            1             0             0             0              1   \n",
       "611            1             0             1             0              0   \n",
       "612            1             0             0             1              0   \n",
       "613            0             1             0             0              0   \n",
       "\n",
       "     Property_Area_Rural  Property_Area_Semiurban  Property_Area_Urban  \n",
       "609                    1                        0                    0  \n",
       "610                    1                        0                    0  \n",
       "611                    0                        0                    1  \n",
       "612                    0                        0                    1  \n",
       "613                    0                        1                    0  "
      ]
     },
     "execution_count": 39,
     "metadata": {},
     "output_type": "execute_result"
    }
   ],
   "source": [
    "df_loans_labeled.tail()"
   ]
  },
  {
   "cell_type": "code",
   "execution_count": 40,
   "id": "33d4a33d",
   "metadata": {},
   "outputs": [
    {
     "data": {
      "text/plain": [
       "(614, 17)"
      ]
     },
     "execution_count": 40,
     "metadata": {},
     "output_type": "execute_result"
    }
   ],
   "source": [
    "# New Shape of the data, number of attribute columns increased due to the inclusion of the dummy variables\n",
    "df_loans_labeled.shape"
   ]
  },
  {
   "cell_type": "code",
   "execution_count": 41,
   "id": "307703db",
   "metadata": {},
   "outputs": [],
   "source": [
    "from sklearn.feature_selection import chi2\n",
    "\n",
    "res = chi2(df_loans_labeled.drop(['Loan_Status'],axis = 1), df_loans_labeled['Loan_Status'])\n",
    "features = pd.DataFrame({\n",
    "    'features': df_loans_labeled.drop(['Loan_Status'],axis = 1).columns,\n",
    "    'chi2': res[0],\n",
    "    'p-value': res[1]\n",
    "})"
   ]
  },
  {
   "cell_type": "code",
   "execution_count": 42,
   "id": "ecf87077",
   "metadata": {},
   "outputs": [
    {
     "data": {
      "text/html": [
       "<div>\n",
       "<style scoped>\n",
       "    .dataframe tbody tr th:only-of-type {\n",
       "        vertical-align: middle;\n",
       "    }\n",
       "\n",
       "    .dataframe tbody tr th {\n",
       "        vertical-align: top;\n",
       "    }\n",
       "\n",
       "    .dataframe thead th {\n",
       "        text-align: right;\n",
       "    }\n",
       "</style>\n",
       "<table border=\"1\" class=\"dataframe\">\n",
       "  <thead>\n",
       "    <tr style=\"text-align: right;\">\n",
       "      <th></th>\n",
       "      <th>features</th>\n",
       "      <th>chi2</th>\n",
       "      <th>p-value</th>\n",
       "    </tr>\n",
       "  </thead>\n",
       "  <tbody>\n",
       "    <tr>\n",
       "      <th>0</th>\n",
       "      <td>Gender</td>\n",
       "      <td>0.036234</td>\n",
       "      <td>8.490324e-01</td>\n",
       "    </tr>\n",
       "    <tr>\n",
       "      <th>1</th>\n",
       "      <td>Married</td>\n",
       "      <td>1.782425</td>\n",
       "      <td>1.818518e-01</td>\n",
       "    </tr>\n",
       "    <tr>\n",
       "      <th>2</th>\n",
       "      <td>Education</td>\n",
       "      <td>3.540502</td>\n",
       "      <td>5.988732e-02</td>\n",
       "    </tr>\n",
       "    <tr>\n",
       "      <th>3</th>\n",
       "      <td>Self_Employed</td>\n",
       "      <td>0.007285</td>\n",
       "      <td>9.319823e-01</td>\n",
       "    </tr>\n",
       "    <tr>\n",
       "      <th>4</th>\n",
       "      <td>ApplicantIncome</td>\n",
       "      <td>93.904964</td>\n",
       "      <td>3.310429e-22</td>\n",
       "    </tr>\n",
       "  </tbody>\n",
       "</table>\n",
       "</div>"
      ],
      "text/plain": [
       "          features       chi2       p-value\n",
       "0           Gender   0.036234  8.490324e-01\n",
       "1          Married   1.782425  1.818518e-01\n",
       "2        Education   3.540502  5.988732e-02\n",
       "3    Self_Employed   0.007285  9.319823e-01\n",
       "4  ApplicantIncome  93.904964  3.310429e-22"
      ]
     },
     "execution_count": 42,
     "metadata": {},
     "output_type": "execute_result"
    }
   ],
   "source": [
    "features.head()"
   ]
  },
  {
   "cell_type": "markdown",
   "id": "0e60b3d0",
   "metadata": {},
   "source": [
    "The result of the chi-squared test for the categorical attributes allow to reject the null hypothesis that these attributes do not yield valuable information. "
   ]
  },
  {
   "cell_type": "code",
   "execution_count": 43,
   "id": "652f0372",
   "metadata": {},
   "outputs": [
    {
     "data": {
      "text/plain": [
       "<AxesSubplot:>"
      ]
     },
     "execution_count": 43,
     "metadata": {},
     "output_type": "execute_result"
    },
    {
     "data": {
      "image/png": "[encoded data removed]",
      "text/plain": [
       "<Figure size 1152x864 with 2 Axes>"
      ]
     },
     "metadata": {
      "needs_background": "light"
     },
     "output_type": "display_data"
    }
   ],
   "source": [
    "corrm = df_loans_labeled.corr(method='spearman')\n",
    "\n",
    "f, ax = plt.subplots(figsize = (16,12))\n",
    "sns.heatmap(corrm, annot=True, cmap='coolwarm')"
   ]
  },
  {
   "cell_type": "markdown",
   "id": "dcd0423b",
   "metadata": {},
   "source": [
    "The second correlation matrix allows to re-evaluate the attributes given the numeric binarization of the categorical attributes. The correlation is performed using Spearman's rank coefficient. The only significant correlation with the target variable that is observed in this matrix is the Credit_History attribute, indicating that a good credit score (1) correlates to the loan being approved."
   ]
  },
  {
   "cell_type": "markdown",
   "id": "711f3f70",
   "metadata": {},
   "source": [
    "## Data split"
   ]
  },
  {
   "cell_type": "code",
   "execution_count": 44,
   "id": "4d7fe4db",
   "metadata": {},
   "outputs": [],
   "source": [
    "X=df_loans_labeled.drop('Loan_Status', axis=1)\n",
    "y=df_loans_labeled['Loan_Status']"
   ]
  },
  {
   "cell_type": "markdown",
   "id": "918ae72a",
   "metadata": {},
   "source": [
    "## Feature Importance"
   ]
  },
  {
   "cell_type": "code",
   "execution_count": 45,
   "id": "59994824",
   "metadata": {},
   "outputs": [
    {
     "data": {
      "text/plain": [
       "Gender                     0.023699\n",
       "Married                    0.026090\n",
       "Education                  0.024325\n",
       "Self_Employed              0.025999\n",
       "ApplicantIncome            0.185479\n",
       "CoapplicantIncome          0.112618\n",
       "LoanAmount                 0.177369\n",
       "Loan_Amount_Term           0.048381\n",
       "Credit_History             0.275310\n",
       "Dependents_0               0.019022\n",
       "Dependents_1               0.015721\n",
       "Dependents_2               0.012212\n",
       "Dependents_3+              0.012084\n",
       "Property_Area_Rural        0.015746\n",
       "Property_Area_Semiurban    0.015090\n",
       "Property_Area_Urban        0.010855\n",
       "dtype: float64"
      ]
     },
     "execution_count": 45,
     "metadata": {},
     "output_type": "execute_result"
    }
   ],
   "source": [
    "model = ExtraTreesClassifier(n_estimators=10)\n",
    "model.fit(X, y)\n",
    "feat = X.columns\n",
    "importance = {}\n",
    "# Get 10 values and obtain the mean to determine which are the best features\n",
    "for n in range(10):\n",
    "    for i in range(len(model.feature_importances_)):\n",
    "        if feat[i] not in importance:\n",
    "            importance[feat[i]] = [model.feature_importances_[i]]\n",
    "        else:\n",
    "            importance[feat[i]].append(model.feature_importances_[i])\n",
    "\n",
    "imp = pd.DataFrame.from_dict(importance)\n",
    "imp.mean(axis = 0)"
   ]
  },
  {
   "cell_type": "markdown",
   "id": "225b0ffd",
   "metadata": {},
   "source": [
    "According to what is observed in the feature importance algorithm of Extra Trees Classifiers, the best features are the Credit_History, LoanAmount, ApplicantIncome and CoapplicantIncome."
   ]
  },
  {
   "cell_type": "code",
   "execution_count": 46,
   "id": "5f9e105d",
   "metadata": {},
   "outputs": [
    {
     "data": {
      "text/html": [
       "<div>\n",
       "<style scoped>\n",
       "    .dataframe tbody tr th:only-of-type {\n",
       "        vertical-align: middle;\n",
       "    }\n",
       "\n",
       "    .dataframe tbody tr th {\n",
       "        vertical-align: top;\n",
       "    }\n",
       "\n",
       "    .dataframe thead th {\n",
       "        text-align: right;\n",
       "    }\n",
       "</style>\n",
       "<table border=\"1\" class=\"dataframe\">\n",
       "  <thead>\n",
       "    <tr style=\"text-align: right;\">\n",
       "      <th></th>\n",
       "      <th>Train Row Count</th>\n",
       "      <th>Test Row Count</th>\n",
       "    </tr>\n",
       "  </thead>\n",
       "  <tbody>\n",
       "    <tr>\n",
       "      <th>X (Predictors)</th>\n",
       "      <td>460</td>\n",
       "      <td>154</td>\n",
       "    </tr>\n",
       "    <tr>\n",
       "      <th>Y (Target)</th>\n",
       "      <td>460</td>\n",
       "      <td>154</td>\n",
       "    </tr>\n",
       "  </tbody>\n",
       "</table>\n",
       "</div>"
      ],
      "text/plain": [
       "                Train Row Count  Test Row Count\n",
       "X (Predictors)              460             154\n",
       "Y (Target)                  460             154"
      ]
     },
     "execution_count": 46,
     "metadata": {},
     "output_type": "execute_result"
    }
   ],
   "source": [
    "X_train, X_test, y_train, y_test = train_test_split(X, y)\n",
    "pd.DataFrame({\"Train Row Count\":[X_train.shape[0],y_train.shape[0]],\n",
    "              \"Test Row Count\":[X_test.shape[0],y_test.shape[0]]},\n",
    "             index=[\"X (Predictors)\",\"Y (Target)\"])"
   ]
  },
  {
   "cell_type": "markdown",
   "id": "12de6fa6",
   "metadata": {},
   "source": [
    "## Data Standarization"
   ]
  },
  {
   "cell_type": "code",
   "execution_count": 47,
   "id": "a2fd4bb7",
   "metadata": {},
   "outputs": [],
   "source": [
    "# Classifier (Loan Approval)\n",
    "scaler = StandardScaler()\n",
    "X_train = scaler.fit_transform(X_train)\n",
    "X_test = scaler.transform(X_test)"
   ]
  },
  {
   "cell_type": "markdown",
   "id": "542779a6",
   "metadata": {},
   "source": [
    "# Models Regression Analysis"
   ]
  },
  {
   "cell_type": "code",
   "execution_count": 48,
   "id": "239469e2",
   "metadata": {},
   "outputs": [
    {
     "name": "stdout",
     "output_type": "stream",
     "text": [
      "                            OLS Regression Results                            \n",
      "==============================================================================\n",
      "Dep. Variable:                      y   R-squared:                       0.417\n",
      "Model:                            OLS   Adj. R-squared:                  0.404\n",
      "Method:                 Least Squares   F-statistic:                     32.98\n",
      "Date:                Wed, 04 May 2022   Prob (F-statistic):           7.28e-62\n",
      "Time:                        17:52:41   Log-Likelihood:                -3426.0\n",
      "No. Observations:                 614   AIC:                             6880.\n",
      "Df Residuals:                     600   BIC:                             6942.\n",
      "Df Model:                          13                                         \n",
      "Covariance Type:            nonrobust                                         \n",
      "===========================================================================================\n",
      "                              coef    std err          t      P>|t|      [0.025      0.975]\n",
      "-------------------------------------------------------------------------------------------\n",
      "const                      28.8575     11.414      2.528      0.012       6.441      51.274\n",
      "Gender                      5.3661      7.388      0.726      0.468      -9.144      19.876\n",
      "Married                    13.3107      6.276      2.121      0.034       0.986      25.636\n",
      "Education                 -14.8099      6.514     -2.273      0.023     -27.604      -2.016\n",
      "Self_Employed              10.2526      7.806      1.313      0.190      -5.078      25.583\n",
      "ApplicantIncome             0.0078      0.000     17.333      0.000       0.007       0.009\n",
      "CoapplicantIncome           0.0071      0.001      7.754      0.000       0.005       0.009\n",
      "Loan_Amount_Term            0.1183      0.042      2.847      0.005       0.037       0.200\n",
      "Credit_History              0.8537      7.478      0.114      0.909     -13.832      15.540\n",
      "Dependents_0               -3.2111      4.927     -0.652      0.515     -12.888       6.466\n",
      "Dependents_1               10.6285      6.229      1.706      0.088      -1.605      22.862\n",
      "Dependents_2                5.1567      6.600      0.781      0.435      -7.805      18.119\n",
      "Dependents_3+              16.2835      8.133      2.002      0.046       0.310      32.257\n",
      "Property_Area_Rural        14.1281      5.649      2.501      0.013       3.034      25.223\n",
      "Property_Area_Semiurban     9.3509      5.268      1.775      0.076      -0.996      19.698\n",
      "Property_Area_Urban         5.3786      5.128      1.049      0.295      -4.692      15.449\n",
      "==============================================================================\n",
      "Omnibus:                      164.502   Durbin-Watson:                   1.953\n",
      "Prob(Omnibus):                  0.000   Jarque-Bera (JB):             2233.750\n",
      "Skew:                           0.780   Prob(JB):                         0.00\n",
      "Kurtosis:                      12.213   Cond. No.                     9.14e+19\n",
      "==============================================================================\n",
      "\n",
      "Notes:\n",
      "[1] Standard Errors assume that the covariance matrix of the errors is correctly specified.\n",
      "[2] The smallest eigenvalue is 4.95e-30. This might indicate that there are\n",
      "strong multicollinearity problems or that the design matrix is singular.\n"
     ]
    }
   ],
   "source": [
    "# Predictors drop Loan amount (target for regression model) and Loan Status, since ideally it would be for new customers.\n",
    "predictor = df_loans_labeled.drop(['LoanAmount', 'Loan_Status'],axis = 1)\n",
    "labels = df_loans_labeled['LoanAmount'].values\n",
    "\n",
    "predictor = sm.add_constant(predictor)\n",
    "\n",
    "model = sm.OLS(labels, predictor)\n",
    "\n",
    "results = model.fit()\n",
    "\n",
    "print(results.summary())"
   ]
  },
  {
   "cell_type": "markdown",
   "id": "e64fedc1",
   "metadata": {},
   "source": [
    "Given the obtained $R^2$ of 0.417 and the adjusted $R^2$ of 0.404, a weak model could be implemented with the complete set of data provided by the company to predict the Loan Amount. In the report, it can be observed that most of the variables return p-values higher than the confidence level of 0.05. Now, according to the correlation matrix previously presented, the ApplicantIncome and CoapplicantIncome variables present the highest correlations with Loan_Amount, a high correlation of 0.5 for the ApplicantIncome variable, and mild correlation of 0.23 for the CoapplicantIncome variable. A second Regression model is set up to test if these variables could be useful for a regression analysis model."
   ]
  },
  {
   "cell_type": "code",
   "execution_count": 49,
   "id": "192e114f",
   "metadata": {},
   "outputs": [
    {
     "name": "stdout",
     "output_type": "stream",
     "text": [
      "                            OLS Regression Results                            \n",
      "==============================================================================\n",
      "Dep. Variable:                      y   R-squared:                       0.385\n",
      "Model:                            OLS   Adj. R-squared:                  0.383\n",
      "Method:                 Least Squares   F-statistic:                     191.4\n",
      "Date:                Wed, 04 May 2022   Prob (F-statistic):           2.84e-65\n",
      "Time:                        17:52:41   Log-Likelihood:                -3442.2\n",
      "No. Observations:                 614   AIC:                             6890.\n",
      "Df Residuals:                     611   BIC:                             6904.\n",
      "Df Model:                           2                                         \n",
      "Covariance Type:            nonrobust                                         \n",
      "=====================================================================================\n",
      "                        coef    std err          t      P>|t|      [0.025      0.975]\n",
      "-------------------------------------------------------------------------------------\n",
      "const                90.1600      3.971     22.707      0.000      82.362      97.957\n",
      "ApplicantIncome       0.0082      0.000     18.649      0.000       0.007       0.009\n",
      "CoapplicantIncome     0.0074      0.001      8.056      0.000       0.006       0.009\n",
      "==============================================================================\n",
      "Omnibus:                      170.107   Durbin-Watson:                   1.946\n",
      "Prob(Omnibus):                  0.000   Jarque-Bera (JB):             2173.424\n",
      "Skew:                           0.842   Prob(JB):                         0.00\n",
      "Kurtosis:                      12.062   Cond. No.                     1.22e+04\n",
      "==============================================================================\n",
      "\n",
      "Notes:\n",
      "[1] Standard Errors assume that the covariance matrix of the errors is correctly specified.\n",
      "[2] The condition number is large, 1.22e+04. This might indicate that there are\n",
      "strong multicollinearity or other numerical problems.\n"
     ]
    }
   ],
   "source": [
    "predictor = df_loans_labeled.drop(['LoanAmount', 'Loan_Status', 'Gender', 'Self_Employed',\n",
    "                                   'Credit_History', 'Dependents_0', 'Dependents_1', 'Dependents_2', 'Dependents_3+',\n",
    "                                  'Property_Area_Urban', 'Property_Area_Semiurban', 'Property_Area_Rural',\n",
    "                                   'Married', 'Loan_Amount_Term', 'Education'],axis = 1)\n",
    "labels = df_loans_labeled['LoanAmount'].values\n",
    "\n",
    "predictor = sm.add_constant(predictor)\n",
    "\n",
    "model = sm.OLS(labels, predictor)\n",
    "\n",
    "results = model.fit()\n",
    "\n",
    "print(results.summary())"
   ]
  },
  {
   "cell_type": "markdown",
   "id": "2542ef69",
   "metadata": {},
   "source": [
    "The resulting $R^2$ of 0.385 and the adjusted $R^2$ of 0.383 of the Regression model indicate a weak predictive power. Given these results, the inclusion of a regression model to predict loan amount would **not be recommended**. _*If the company decides to adopt a regression model*_ similar to those presented in this work to predict the loan amount, it should be noted that the prediction done by the model should be taken only as a possible amount the applicant might request and provide initial insight for the applicants case; However, in no way it reflects the actual amount that would be requested by the applicants, a no action to deny or approve the loan prior to the applicant's request should be done. \n",
    "\n",
    "\n",
    "Further study would be required to provide a definitive decision if a regression model could be included into the process, to determine if more data would be required or if a more rigourous search of variables could provide better results."
   ]
  },
  {
   "cell_type": "markdown",
   "id": "14adb852",
   "metadata": {},
   "source": [
    "# Classifier Models"
   ]
  },
  {
   "cell_type": "code",
   "execution_count": 50,
   "id": "59b11ea0",
   "metadata": {},
   "outputs": [],
   "source": [
    "y_train = y_train.values.ravel()"
   ]
  },
  {
   "cell_type": "code",
   "execution_count": 51,
   "id": "df3c47dc",
   "metadata": {},
   "outputs": [],
   "source": [
    "# Decision Tree\n",
    "dtc = DecisionTreeClassifier()\n",
    "dtc.fit(X_train,y_train)\n",
    "y_pred_dtc = dtc.predict(X_test)\n",
    "dtc_acc = accuracy_score(y_test,y_pred_dtc)\n",
    "dtc_recall = recall_score(y_test,y_pred_dtc)\n",
    "dtc_prec = precision_score(y_test,y_pred_dtc)\n",
    "dtc_f1 = f1_score(y_test,y_pred_dtc)\n",
    "# print(classification_report(y_test, y_pred_dtc))"
   ]
  },
  {
   "cell_type": "code",
   "execution_count": 52,
   "id": "d1ad6a48",
   "metadata": {},
   "outputs": [],
   "source": [
    "# SVM\n",
    "svm_clf = SVC()\n",
    "svm_clf.fit(X_train,y_train)\n",
    "y_pred_svm = svm_clf.predict(X_test)\n",
    "svm_acc = accuracy_score(y_test,y_pred_svm)\n",
    "svm_recall = recall_score(y_test,y_pred_svm)\n",
    "svm_prec = precision_score(y_test,y_pred_svm)\n",
    "svm_f1 = f1_score(y_test,y_pred_svm)\n",
    "# print(classification_report(y_test, y_pred_svm))"
   ]
  },
  {
   "cell_type": "code",
   "execution_count": 53,
   "id": "e3aad22f",
   "metadata": {},
   "outputs": [],
   "source": [
    "# Logistic Regression\n",
    "logr = LogisticRegression()\n",
    "logr.fit(X_train,y_train)\n",
    "y_pred_logr = logr.predict(X_test)\n",
    "logr_acc = accuracy_score(y_test,y_pred_logr)\n",
    "logr_recall = recall_score(y_test,y_pred_logr)\n",
    "logr_prec = precision_score(y_test,y_pred_logr)\n",
    "logr_f1 = f1_score(y_test,y_pred_logr)\n",
    "# print(classification_report(y_test, y_pred_logr))"
   ]
  },
  {
   "cell_type": "code",
   "execution_count": 54,
   "id": "3b612d98",
   "metadata": {},
   "outputs": [],
   "source": [
    "# Naive Bayes\n",
    "gnb = GaussianNB()\n",
    "gnb.fit(X_train,y_train)\n",
    "y_pred_gnb = gnb.predict(X_test)\n",
    "gnb_acc = accuracy_score(y_test,y_pred_gnb)\n",
    "gnb_recall = recall_score(y_test,y_pred_gnb)\n",
    "gnb_prec = precision_score(y_test,y_pred_gnb)\n",
    "gnb_f1 = f1_score(y_test,y_pred_gnb)\n",
    "# print(classification_report(y_test, y_pred_gnb))"
   ]
  },
  {
   "cell_type": "code",
   "execution_count": 55,
   "id": "58133025",
   "metadata": {},
   "outputs": [],
   "source": [
    "# Random Forrest\n",
    "rfc = RandomForestClassifier()\n",
    "rfc.fit(X_train,y_train)\n",
    "y_pred_rfc = rfc.predict(X_test)\n",
    "rfc_acc = accuracy_score(y_test,y_pred_rfc)\n",
    "rfc_recall = recall_score(y_test,y_pred_rfc)\n",
    "rfc_prec = precision_score(y_test,y_pred_rfc)\n",
    "rfc_f1 = f1_score(y_test,y_pred_rfc)\n",
    "# print(classification_report(y_test, y_pred_rfc))"
   ]
  },
  {
   "cell_type": "code",
   "execution_count": 56,
   "id": "481208fc",
   "metadata": {},
   "outputs": [],
   "source": [
    "# Xgboost Classifier\n",
    "xgboast = xgb.XGBClassifier(eval_metric = 'logloss')\n",
    "xgboast.fit(X_train, y_train)\n",
    "xgboast_acc = xgboast.score(X_test,y_test)\n",
    "xgb_pred = xgboast.predict(X_test)\n",
    "xgb_recall = recall_score(y_test,xgb_pred)\n",
    "xgb_prec = precision_score(y_test,xgb_pred)\n",
    "xgb_f1 = f1_score(y_test,xgb_pred)\n",
    "# print(classification_report(y_test, xgb_pred))"
   ]
  },
  {
   "cell_type": "code",
   "execution_count": 57,
   "id": "a69a18cc",
   "metadata": {},
   "outputs": [],
   "source": [
    "# GBM\n",
    "gbm = GradientBoostingClassifier()\n",
    "gbm.fit(X_train,y_train)\n",
    "y_pred_gbm = gbm.predict(X_test)\n",
    "gbm_acc = accuracy_score(y_test,y_pred_gbm)\n",
    "gbm_recall = recall_score(y_test,y_pred_gbm)\n",
    "gbm_prec = precision_score(y_test,y_pred_gbm)\n",
    "gbm_f1 = f1_score(y_test,y_pred_gbm)"
   ]
  },
  {
   "cell_type": "markdown",
   "id": "22b01f7c",
   "metadata": {},
   "source": [
    "# Evaluation"
   ]
  },
  {
   "cell_type": "code",
   "execution_count": 58,
   "id": "7130d7bc",
   "metadata": {},
   "outputs": [
    {
     "data": {
      "text/html": [
       "<div>\n",
       "<style scoped>\n",
       "    .dataframe tbody tr th:only-of-type {\n",
       "        vertical-align: middle;\n",
       "    }\n",
       "\n",
       "    .dataframe tbody tr th {\n",
       "        vertical-align: top;\n",
       "    }\n",
       "\n",
       "    .dataframe thead th {\n",
       "        text-align: right;\n",
       "    }\n",
       "</style>\n",
       "<table border=\"1\" class=\"dataframe\">\n",
       "  <thead>\n",
       "    <tr style=\"text-align: right;\">\n",
       "      <th></th>\n",
       "      <th>Algorithms</th>\n",
       "      <th>Scores</th>\n",
       "      <th>Recall</th>\n",
       "      <th>Precision</th>\n",
       "      <th>F1 Score</th>\n",
       "    </tr>\n",
       "  </thead>\n",
       "  <tbody>\n",
       "    <tr>\n",
       "      <th>0</th>\n",
       "      <td>Decision Tree</td>\n",
       "      <td>0.720779</td>\n",
       "      <td>0.771429</td>\n",
       "      <td>0.810000</td>\n",
       "      <td>0.790244</td>\n",
       "    </tr>\n",
       "    <tr>\n",
       "      <th>1</th>\n",
       "      <td>SVM</td>\n",
       "      <td>0.831169</td>\n",
       "      <td>1.000000</td>\n",
       "      <td>0.801527</td>\n",
       "      <td>0.889831</td>\n",
       "    </tr>\n",
       "    <tr>\n",
       "      <th>2</th>\n",
       "      <td>Logistic Regression</td>\n",
       "      <td>0.824675</td>\n",
       "      <td>0.980952</td>\n",
       "      <td>0.804688</td>\n",
       "      <td>0.884120</td>\n",
       "    </tr>\n",
       "    <tr>\n",
       "      <th>3</th>\n",
       "      <td>Naive Bayes</td>\n",
       "      <td>0.805195</td>\n",
       "      <td>0.952381</td>\n",
       "      <td>0.800000</td>\n",
       "      <td>0.869565</td>\n",
       "    </tr>\n",
       "    <tr>\n",
       "      <th>4</th>\n",
       "      <td>Random Forest</td>\n",
       "      <td>0.824675</td>\n",
       "      <td>0.980952</td>\n",
       "      <td>0.804688</td>\n",
       "      <td>0.884120</td>\n",
       "    </tr>\n",
       "    <tr>\n",
       "      <th>5</th>\n",
       "      <td>Xgboost Classifier</td>\n",
       "      <td>0.785714</td>\n",
       "      <td>0.904762</td>\n",
       "      <td>0.805085</td>\n",
       "      <td>0.852018</td>\n",
       "    </tr>\n",
       "    <tr>\n",
       "      <th>6</th>\n",
       "      <td>GBM</td>\n",
       "      <td>0.792208</td>\n",
       "      <td>0.914286</td>\n",
       "      <td>0.806723</td>\n",
       "      <td>0.857143</td>\n",
       "    </tr>\n",
       "  </tbody>\n",
       "</table>\n",
       "</div>"
      ],
      "text/plain": [
       "            Algorithms    Scores    Recall  Precision  F1 Score\n",
       "0        Decision Tree  0.720779  0.771429   0.810000  0.790244\n",
       "1                  SVM  0.831169  1.000000   0.801527  0.889831\n",
       "2  Logistic Regression  0.824675  0.980952   0.804688  0.884120\n",
       "3          Naive Bayes  0.805195  0.952381   0.800000  0.869565\n",
       "4        Random Forest  0.824675  0.980952   0.804688  0.884120\n",
       "5   Xgboost Classifier  0.785714  0.904762   0.805085  0.852018\n",
       "6                  GBM  0.792208  0.914286   0.806723  0.857143"
      ]
     },
     "execution_count": 58,
     "metadata": {},
     "output_type": "execute_result"
    }
   ],
   "source": [
    "pd.DataFrame({\"Algorithms\":[\"Decision Tree\",\"SVM\",\"Logistic Regression\",\"Naive Bayes\",\"Random Forest\",\"Xgboost Classifier\", \"GBM\"],\n",
    "              \"Scores\":[dtc_acc,svm_acc,logr_acc,gnb_acc,rfc_acc,xgboast_acc,gbm_acc],\n",
    "              \"Recall\":[dtc_recall,svm_recall,logr_recall,gnb_recall,rfc_recall,xgb_recall,gbm_recall],\n",
    "              \"Precision\":[dtc_prec,svm_prec,logr_prec,gnb_prec,rfc_prec,xgb_prec,gbm_prec],\n",
    "              \"F1 Score\":[dtc_f1,svm_f1,logr_f1,gnb_f1,rfc_f1,xgb_f1,gbm_f1]})\n"
   ]
  },
  {
   "cell_type": "markdown",
   "id": "8088d2d7",
   "metadata": {},
   "source": [
    "Overall, all the models performed well. The best results are observed with the SVM and Logistic Regression Classifiers with an accuracy of 80.51%, followed by Naive Bayes with \n",
    "\n",
    "When comparing all the models, Naive Bayes appear to be the best performing model with 75.9%, followed by Logistic Regression 75.3%, Random Forest 74.02% and GBM 74.02%."
   ]
  },
  {
   "cell_type": "markdown",
   "id": "73979135",
   "metadata": {},
   "source": [
    "## Confusion Matrix"
   ]
  },
  {
   "cell_type": "code",
   "execution_count": 59,
   "id": "c6ad3f15",
   "metadata": {},
   "outputs": [
    {
     "data": {
      "image/png": "[encoded data removed]",
      "text/plain": [
       "<Figure size 720x288 with 4 Axes>"
      ]
     },
     "metadata": {
      "needs_background": "light"
     },
     "output_type": "display_data"
    },
    {
     "data": {
      "image/png": "[encoded data removed]",
      "text/plain": [
       "<Figure size 720x288 with 4 Axes>"
      ]
     },
     "metadata": {
      "needs_background": "light"
     },
     "output_type": "display_data"
    },
    {
     "data": {
      "image/png": "[encoded data removed]",
      "text/plain": [
       "<Figure size 720x288 with 4 Axes>"
      ]
     },
     "metadata": {
      "needs_background": "light"
     },
     "output_type": "display_data"
    },
    {
     "data": {
      "image/png": "[encoded data removed]",
      "text/plain": [
       "<Figure size 432x288 with 2 Axes>"
      ]
     },
     "metadata": {
      "needs_background": "light"
     },
     "output_type": "display_data"
    }
   ],
   "source": [
    "svm_corr = confusion_matrix(y_test, y_pred_svm, normalize='true')\n",
    "lr_corr = confusion_matrix(y_test, y_pred_logr, normalize='true')\n",
    "\n",
    "fig, ax = plt.subplots(nrows=1, ncols=2, figsize = (10,4))\n",
    "fig.suptitle('Confusion Matrix')\n",
    "\n",
    "sns.heatmap(svm_corr, annot=True, linewidths=.1, ax=ax[0])\n",
    "ax[0].set_title('SVM')\n",
    "ax[0].set_ylabel('True')\n",
    "ax[0].set_xlabel('Predicted')\n",
    "\n",
    "sns.heatmap(lr_corr, annot=True, linewidths=.1, ax=ax[1])\n",
    "ax[1].set_title('Logistic Regression')\n",
    "ax[1].set_ylabel('True')\n",
    "ax[1].set_xlabel('Predicted')\n",
    "\n",
    "\n",
    "plt.show()\n",
    "\n",
    "# fig.savefig(\"correlation_.png\", dpi=600)\n",
    "\n",
    "dt_corr = confusion_matrix(y_test, y_pred_dtc, normalize='true')\n",
    "nb_corr = confusion_matrix(y_test, y_pred_gnb, normalize='true')\n",
    "\n",
    "fig, ax = plt.subplots(nrows=1, ncols=2, figsize = (10,4))\n",
    "fig.suptitle('Confusion Matrix')\n",
    "\n",
    "sns.heatmap(dt_corr, annot=True, linewidths=.1, ax=ax[0])\n",
    "ax[0].set_title('Decission Tree')\n",
    "ax[0].set_ylabel('True')\n",
    "ax[0].set_xlabel('Predicted')\n",
    "\n",
    "sns.heatmap(nb_corr, annot=True, linewidths=.1, ax=ax[1])\n",
    "ax[1].set_title('Naive Bayes')\n",
    "ax[1].set_ylabel('True')\n",
    "ax[1].set_xlabel('Predicted')\n",
    "\n",
    "\n",
    "plt.show()\n",
    "\n",
    "# fig.savefig(\"correlation_.png\", dpi=600)\n",
    "\n",
    "rf_corr = confusion_matrix(y_test, y_pred_rfc, normalize='true')\n",
    "xgb_corr = confusion_matrix(y_test, xgb_pred, normalize='true')\n",
    "\n",
    "fig, ax = plt.subplots(nrows=1, ncols=2, figsize = (10,4))\n",
    "fig.suptitle('Confusion Matrix')\n",
    "\n",
    "sns.heatmap(rf_corr, annot=True, linewidths=.1, ax=ax[0])\n",
    "ax[0].set_title('Random Forest')\n",
    "ax[0].set_ylabel('True')\n",
    "ax[0].set_xlabel('Predicted')\n",
    "\n",
    "sns.heatmap(xgb_corr, annot=True, linewidths=.1, ax=ax[1])\n",
    "ax[1].set_title('XGB')\n",
    "ax[1].set_ylabel('True')\n",
    "ax[1].set_xlabel('Predicted')\n",
    "\n",
    "plt.show()\n",
    "\n",
    "gbm_corr = confusion_matrix(y_test, y_pred_gbm, normalize='true')\n",
    "\n",
    "sns.heatmap(rf_corr, annot=True, linewidths=.1)\n",
    "plt.title('GBM')\n",
    "plt.ylabel('True')\n",
    "plt.xlabel('Predicted')\n",
    "\n",
    "plt.show()"
   ]
  },
  {
   "cell_type": "markdown",
   "id": "13288741",
   "metadata": {},
   "source": [
    "The confusion matrix from the models shown that all of the models have a high true positive ratio, with the XGB being having the lowest. However, it can also be observed that there is a high False positive ratio, were the entries that should have been false were predicted as true. In this case, it might be better to have a higher false negative ratio, since comunicating to the applicants that they were not approved and upon review approve their loan might be better business practing than approving the loan and then denying it."
   ]
  },
  {
   "cell_type": "markdown",
   "id": "6d539df5",
   "metadata": {},
   "source": [
    "## Cross Validation"
   ]
  },
  {
   "cell_type": "code",
   "execution_count": 60,
   "id": "729de876",
   "metadata": {},
   "outputs": [],
   "source": [
    "models = []\n",
    "models.append(('LR', LogisticRegression()))\n",
    "models.append(('DT', DecisionTreeClassifier()))\n",
    "models.append(('RFC', RandomForestClassifier()))\n",
    "models.append(('NB', GaussianNB()))\n",
    "models.append(('SVM', SVC()))\n",
    "models.append(('xgb', XGBClassifier(eval_metric = 'logloss')))\n",
    "models.append(('GBM', GradientBoostingClassifier()))\n"
   ]
  },
  {
   "cell_type": "code",
   "execution_count": 61,
   "id": "106eccd4",
   "metadata": {
    "scrolled": false
   },
   "outputs": [
    {
     "data": {
      "text/html": [
       "<div>\n",
       "<style scoped>\n",
       "    .dataframe tbody tr th:only-of-type {\n",
       "        vertical-align: middle;\n",
       "    }\n",
       "\n",
       "    .dataframe tbody tr th {\n",
       "        vertical-align: top;\n",
       "    }\n",
       "\n",
       "    .dataframe thead th {\n",
       "        text-align: right;\n",
       "    }\n",
       "</style>\n",
       "<table border=\"1\" class=\"dataframe\">\n",
       "  <thead>\n",
       "    <tr style=\"text-align: right;\">\n",
       "      <th></th>\n",
       "      <th>Algorithm</th>\n",
       "      <th>Accuracy Mean</th>\n",
       "      <th>Accuracy STD</th>\n",
       "      <th>AUC(ROC) Mean</th>\n",
       "      <th>AUC(ROC) STD</th>\n",
       "    </tr>\n",
       "  </thead>\n",
       "  <tbody>\n",
       "    <tr>\n",
       "      <th>0</th>\n",
       "      <td>LR</td>\n",
       "      <td>0.803067</td>\n",
       "      <td>0.031970</td>\n",
       "      <td>0.763735</td>\n",
       "      <td>0.080373</td>\n",
       "    </tr>\n",
       "    <tr>\n",
       "      <th>1</th>\n",
       "      <td>DT</td>\n",
       "      <td>0.710286</td>\n",
       "      <td>0.055495</td>\n",
       "      <td>0.669313</td>\n",
       "      <td>0.066213</td>\n",
       "    </tr>\n",
       "    <tr>\n",
       "      <th>2</th>\n",
       "      <td>RFC</td>\n",
       "      <td>0.786859</td>\n",
       "      <td>0.047555</td>\n",
       "      <td>0.757532</td>\n",
       "      <td>0.067524</td>\n",
       "    </tr>\n",
       "    <tr>\n",
       "      <th>3</th>\n",
       "      <td>NB</td>\n",
       "      <td>0.786779</td>\n",
       "      <td>0.038003</td>\n",
       "      <td>0.742059</td>\n",
       "      <td>0.047567</td>\n",
       "    </tr>\n",
       "    <tr>\n",
       "      <th>4</th>\n",
       "      <td>SVM</td>\n",
       "      <td>0.687308</td>\n",
       "      <td>0.005314</td>\n",
       "      <td>0.523772</td>\n",
       "      <td>0.102345</td>\n",
       "    </tr>\n",
       "    <tr>\n",
       "      <th>5</th>\n",
       "      <td>xgb</td>\n",
       "      <td>0.757403</td>\n",
       "      <td>0.057971</td>\n",
       "      <td>0.739367</td>\n",
       "      <td>0.057152</td>\n",
       "    </tr>\n",
       "    <tr>\n",
       "      <th>6</th>\n",
       "      <td>GBM</td>\n",
       "      <td>0.785219</td>\n",
       "      <td>0.044288</td>\n",
       "      <td>0.724147</td>\n",
       "      <td>0.084287</td>\n",
       "    </tr>\n",
       "  </tbody>\n",
       "</table>\n",
       "</div>"
      ],
      "text/plain": [
       "  Algorithm  Accuracy Mean  Accuracy STD  AUC(ROC) Mean  AUC(ROC) STD\n",
       "0        LR       0.803067      0.031970       0.763735      0.080373\n",
       "1        DT       0.710286      0.055495       0.669313      0.066213\n",
       "2       RFC       0.786859      0.047555       0.757532      0.067524\n",
       "3        NB       0.786779      0.038003       0.742059      0.047567\n",
       "4       SVM       0.687308      0.005314       0.523772      0.102345\n",
       "5       xgb       0.757403      0.057971       0.739367      0.057152\n",
       "6       GBM       0.785219      0.044288       0.724147      0.084287"
      ]
     },
     "execution_count": 61,
     "metadata": {},
     "output_type": "execute_result"
    }
   ],
   "source": [
    "# evaluate each model in turning kfold results\n",
    "from sklearn.model_selection import cross_validate\n",
    "\n",
    "\n",
    "\n",
    "predictors = X\n",
    "target = y\n",
    "results_boxplot = []\n",
    "boxplot_auc = []\n",
    "names = []\n",
    "results_mean = []\n",
    "results_std = []\n",
    "results_auc_mean = []\n",
    "results_auc_std = []\n",
    "p,t = predictors.values, target.values.ravel()\n",
    "for name, model in models:\n",
    "    cv_results = cross_validate(model, p,t, cv=10,\n",
    "                               scoring=('accuracy','roc_auc'))\n",
    "    results_boxplot.append(cv_results['test_accuracy'])\n",
    "    results_mean.append(cv_results['test_accuracy'].mean())\n",
    "    results_std.append(cv_results['test_accuracy'].std())\n",
    "    boxplot_auc.append(cv_results['test_roc_auc'])\n",
    "    results_auc_mean.append(cv_results['test_roc_auc'].mean())\n",
    "    results_auc_std.append(cv_results['test_roc_auc'].std())\n",
    "    names.append(name)\n",
    "pd.DataFrame({\"Algorithm\":names,\n",
    "                                \"Accuracy Mean\":results_mean,\n",
    "                                \"Accuracy STD\":results_std,\n",
    "                                \"AUC(ROC) Mean\": results_auc_mean,\n",
    "                                \"AUC(ROC) STD\": results_auc_std})\n",
    "\n"
   ]
  },
  {
   "cell_type": "code",
   "execution_count": 62,
   "id": "ae5d29be",
   "metadata": {},
   "outputs": [
    {
     "data": {
      "image/png": "[encoded data removed]",
      "text/plain": [
       "<Figure size 432x288 with 1 Axes>"
      ]
     },
     "metadata": {
      "needs_background": "light"
     },
     "output_type": "display_data"
    }
   ],
   "source": [
    "# boxplot algorithm comparison\n",
    "fig = plt.figure()\n",
    "fig.suptitle('Algorithm Accuracy Comparison')\n",
    "ax = fig.add_subplot(111)\n",
    "plt.boxplot(results_boxplot)\n",
    "ax.set_xticklabels(names)\n",
    "plt.show()"
   ]
  },
  {
   "cell_type": "code",
   "execution_count": 63,
   "id": "ff6ac4b9",
   "metadata": {},
   "outputs": [
    {
     "data": {
      "image/png": "[encoded data removed]",
      "text/plain": [
       "<Figure size 432x288 with 1 Axes>"
      ]
     },
     "metadata": {
      "needs_background": "light"
     },
     "output_type": "display_data"
    }
   ],
   "source": [
    "# boxplot algorithm comparison\n",
    "fig = plt.figure()\n",
    "fig.suptitle('Algorithm AUC Comparison')\n",
    "ax = fig.add_subplot(111)\n",
    "plt.boxplot(boxplot_auc)\n",
    "ax.set_xticklabels(names)\n",
    "plt.show()"
   ]
  },
  {
   "cell_type": "markdown",
   "id": "2bdebb21",
   "metadata": {},
   "source": [
    "Consistent with the first implementation, overall the algorithms perform rather well. The worst results are observed with the SVM, with consistent values around 70%, along with Decision Trees classifiers, with a wide distribution of the results, but with a median lower than 70%. The Random Forest classifier presents better resukts, with a median accuracy of approx, 78%, a max of 85% and a minimum of approx 72%. Similar results are observed with the Naive Bayes and GBM classifiers, with a median value around 77%. The XGB classifier provided the highers max value, with a score higer than 85%, however the median, first and third quartile with values lower than 80%. The best results were obtained through the Logistic Regression classifier, with the median and third quartile being higher than 80% and the max score reaching 85%. Given this results, a Logistic Regression model might be the best modeling technique to predict the loan approaval."
   ]
  },
  {
   "cell_type": "markdown",
   "id": "9a77cf23",
   "metadata": {},
   "source": [
    "## Hyper-parameter tuning Logistic Regression"
   ]
  },
  {
   "cell_type": "code",
   "execution_count": 64,
   "id": "c423cf57",
   "metadata": {
    "scrolled": true
   },
   "outputs": [
    {
     "data": {
      "text/plain": [
       "GridSearchCV(estimator=LogisticRegression(),\n",
       "             param_grid={'C': [0.1, 1, 10, 100, 1000],\n",
       "                         'penalty': ['l1', 'l2', 'elasticnet']})"
      ]
     },
     "execution_count": 64,
     "metadata": {},
     "output_type": "execute_result"
    }
   ],
   "source": [
    "param_grid = {'C': [0.1, 1, 10, 100, 1000],\n",
    "             'penalty': ['l1', 'l2',  'elasticnet']}\n",
    "\n",
    "grid = GridSearchCV(LogisticRegression(), param_grid, refit = True, verbose = 0)\n",
    "\n",
    "grid.fit(X_train, y_train)"
   ]
  },
  {
   "cell_type": "code",
   "execution_count": 65,
   "id": "fce552a8",
   "metadata": {},
   "outputs": [
    {
     "name": "stdout",
     "output_type": "stream",
     "text": [
      "best parameter after tuning:  {'C': 1, 'penalty': 'l2'}\n",
      "Model with Hyper-parameter tuning:  LogisticRegression(C=1)\n"
     ]
    }
   ],
   "source": [
    "print('best parameter after tuning: ', grid.best_params_)\n",
    "print('Model with Hyper-parameter tuning: ', grid.best_estimator_)"
   ]
  },
  {
   "cell_type": "code",
   "execution_count": 66,
   "id": "7e71a395",
   "metadata": {},
   "outputs": [],
   "source": [
    "grid_predictions = grid.predict(X_test)"
   ]
  },
  {
   "cell_type": "code",
   "execution_count": 67,
   "id": "bdb730eb",
   "metadata": {},
   "outputs": [
    {
     "data": {
      "text/plain": [
       "0.8246753246753247"
      ]
     },
     "execution_count": 67,
     "metadata": {},
     "output_type": "execute_result"
    }
   ],
   "source": [
    "accuracy_score(y_test,grid_predictions)"
   ]
  },
  {
   "cell_type": "markdown",
   "id": "97188c2e",
   "metadata": {},
   "source": [
    "### Random Forest Hyper-Parameter Tuning"
   ]
  },
  {
   "cell_type": "code",
   "execution_count": 68,
   "id": "32cc89eb",
   "metadata": {
    "scrolled": true
   },
   "outputs": [
    {
     "data": {
      "text/plain": [
       "GridSearchCV(estimator=DecisionTreeClassifier(),\n",
       "             param_grid={'criterion': ['gini', 'entropy'],\n",
       "                         'max_depth': [4, 5, 6, 7, 8, 9, 10, 11, 12, 15, 20, 30,\n",
       "                                       40, 50, 70, 90, 120, 150]})"
      ]
     },
     "execution_count": 68,
     "metadata": {},
     "output_type": "execute_result"
    }
   ],
   "source": [
    "param_grid = {'criterion':['gini','entropy'],'max_depth':[4,5,6,7,8,9,10,11,12,15,20,30,40,50,70,90,120,150]}\n",
    "\n",
    "grid = GridSearchCV(DecisionTreeClassifier(), param_grid, refit = True, verbose = 0)\n",
    "\n",
    "grid.fit(X_train, y_train)"
   ]
  },
  {
   "cell_type": "code",
   "execution_count": 69,
   "id": "806905c6",
   "metadata": {},
   "outputs": [
    {
     "name": "stdout",
     "output_type": "stream",
     "text": [
      "best parameter after tuning:  {'criterion': 'gini', 'max_depth': 4}\n",
      "Model with Hyper-parameter tuning:  DecisionTreeClassifier(max_depth=4)\n"
     ]
    }
   ],
   "source": [
    "print('best parameter after tuning: ', grid.best_params_)\n",
    "print('Model with Hyper-parameter tuning: ', grid.best_estimator_)"
   ]
  },
  {
   "cell_type": "code",
   "execution_count": 70,
   "id": "7d878132",
   "metadata": {},
   "outputs": [
    {
     "data": {
      "text/plain": [
       "0.7987012987012987"
      ]
     },
     "execution_count": 70,
     "metadata": {},
     "output_type": "execute_result"
    }
   ],
   "source": [
    "grid_predictions = grid.predict(X_test)\n",
    "accuracy_score(y_test,grid_predictions)"
   ]
  },
  {
   "cell_type": "markdown",
   "id": "b3bca40c",
   "metadata": {},
   "source": [
    "### Hyper-parameter tuning SVM"
   ]
  },
  {
   "cell_type": "code",
   "execution_count": 71,
   "id": "40ab53c4",
   "metadata": {
    "scrolled": true
   },
   "outputs": [
    {
     "data": {
      "text/plain": [
       "GridSearchCV(estimator=SVC(),\n",
       "             param_grid={'C': [0.1, 1, 10, 100, 1000],\n",
       "                         'gamma': [1, 0.1, 0.01, 0.001, 0.0001],\n",
       "                         'kernel': ['rbf']})"
      ]
     },
     "execution_count": 71,
     "metadata": {},
     "output_type": "execute_result"
    }
   ],
   "source": [
    "# defining parameter range\n",
    "param_grid = {'C': [0.1, 1, 10, 100, 1000],\n",
    "              'gamma': [1, 0.1, 0.01, 0.001, 0.0001],\n",
    "              'kernel': ['rbf']}\n",
    " \n",
    "grid = GridSearchCV(SVC(), param_grid, refit = True, verbose = 0)\n",
    " \n",
    "# fitting the model for grid search\n",
    "grid.fit(X_train, y_train)"
   ]
  },
  {
   "cell_type": "code",
   "execution_count": 72,
   "id": "c6e674b0",
   "metadata": {},
   "outputs": [
    {
     "name": "stdout",
     "output_type": "stream",
     "text": [
      "best parameter after tuning:  {'C': 10, 'gamma': 0.001, 'kernel': 'rbf'}\n",
      "Model with Hyper-parameter tuning:  SVC(C=10, gamma=0.001)\n"
     ]
    }
   ],
   "source": [
    "print('best parameter after tuning: ', grid.best_params_)\n",
    "print('Model with Hyper-parameter tuning: ', grid.best_estimator_)"
   ]
  },
  {
   "cell_type": "code",
   "execution_count": 73,
   "id": "cf834428",
   "metadata": {},
   "outputs": [
    {
     "data": {
      "text/plain": [
       "0.8246753246753247"
      ]
     },
     "execution_count": 73,
     "metadata": {},
     "output_type": "execute_result"
    }
   ],
   "source": [
    "grid_predictions = grid.predict(X_test)\n",
    "accuracy_score(y_test,grid_predictions)"
   ]
  },
  {
   "cell_type": "markdown",
   "id": "3de90bbd",
   "metadata": {},
   "source": [
    "### Hyper-parameter tuning Random Forest"
   ]
  },
  {
   "cell_type": "code",
   "execution_count": 74,
   "id": "b16b50f3",
   "metadata": {
    "scrolled": true
   },
   "outputs": [
    {
     "data": {
      "text/plain": [
       "GridSearchCV(estimator=RandomForestClassifier(),\n",
       "             param_grid={'criterion': ['gini', 'entropy'],\n",
       "                         'max_depth': [4, 5, 6, 7, 8],\n",
       "                         'max_features': ['auto', 'sqrt', 'log2'],\n",
       "                         'n_estimators': [200, 500]})"
      ]
     },
     "execution_count": 74,
     "metadata": {},
     "output_type": "execute_result"
    }
   ],
   "source": [
    "param_grid = { \n",
    "    'n_estimators': [200, 500],\n",
    "    'max_features': ['auto', 'sqrt', 'log2'],\n",
    "    'max_depth' : [4,5,6,7,8],\n",
    "    'criterion' :['gini', 'entropy']\n",
    "}\n",
    " \n",
    "grid = GridSearchCV(RandomForestClassifier(), param_grid, refit = True, verbose = 0)\n",
    " \n",
    "# fitting the model for grid search\n",
    "grid.fit(X_train, y_train)"
   ]
  },
  {
   "cell_type": "code",
   "execution_count": 75,
   "id": "0aa6b588",
   "metadata": {},
   "outputs": [
    {
     "name": "stdout",
     "output_type": "stream",
     "text": [
      "best parameter after tuning:  {'criterion': 'gini', 'max_depth': 4, 'max_features': 'auto', 'n_estimators': 500}\n",
      "Model with Hyper-parameter tuning:  RandomForestClassifier(max_depth=4, n_estimators=500)\n"
     ]
    }
   ],
   "source": [
    "print('best parameter after tuning: ', grid.best_params_)\n",
    "print('Model with Hyper-parameter tuning: ', grid.best_estimator_)"
   ]
  },
  {
   "cell_type": "code",
   "execution_count": 76,
   "id": "01696c62",
   "metadata": {},
   "outputs": [
    {
     "data": {
      "text/plain": [
       "0.8246753246753247"
      ]
     },
     "execution_count": 76,
     "metadata": {},
     "output_type": "execute_result"
    }
   ],
   "source": [
    "grid_predictions = grid.predict(X_test)\n",
    "accuracy_score(y_test,grid_predictions)"
   ]
  },
  {
   "cell_type": "markdown",
   "id": "310ce423",
   "metadata": {},
   "source": [
    "### Hyper-parameter tuning XGB"
   ]
  },
  {
   "cell_type": "code",
   "execution_count": 77,
   "id": "920fdc6d",
   "metadata": {},
   "outputs": [
    {
     "data": {
      "text/plain": [
       "GridSearchCV(estimator=XGBClassifier(base_score=None, booster=None,\n",
       "                                     colsample_bylevel=None,\n",
       "                                     colsample_bynode=None,\n",
       "                                     colsample_bytree=None,\n",
       "                                     enable_categorical=False,\n",
       "                                     eval_metric='logloss', gamma=None,\n",
       "                                     gpu_id=None, importance_type=None,\n",
       "                                     interaction_constraints=None,\n",
       "                                     learning_rate=None, max_delta_step=None,\n",
       "                                     max_depth=None, min_child_weight=None,\n",
       "                                     missing=nan, monotone_...=None,\n",
       "                                     n_estimators=100, n_jobs=None,\n",
       "                                     num_parallel_tree=None, predictor=None,\n",
       "                                     random_state=None, reg_alpha=None,\n",
       "                                     reg_lambda=None, scale_pos_weight=None,\n",
       "                                     subsample=None, tree_method=None,\n",
       "                                     validate_parameters=None, verbosity=None),\n",
       "             param_grid={'learning_rate': [0.01, 0.05, 0.001],\n",
       "                         'max_depth': [4, 6, 8],\n",
       "                         'n_estimators': [100, 200, 500, 1000],\n",
       "                         'objective': ['binary:logistic']})"
      ]
     },
     "execution_count": 77,
     "metadata": {},
     "output_type": "execute_result"
    }
   ],
   "source": [
    "# defining parameter range\n",
    "param_grid = { \n",
    "    'n_estimators': [100, 200, 500, 1000],\n",
    "    'learning_rate': [0.01, 0.05, 0.001],\n",
    "    'max_depth' : [4,6,8],\n",
    "    'objective':['binary:logistic']}\n",
    " \n",
    "grid = GridSearchCV(XGBClassifier(eval_metric = 'logloss'), param_grid, refit = True, verbose = 0)\n",
    " \n",
    "# fitting the model for grid search\n",
    "grid.fit(X_train, y_train)"
   ]
  },
  {
   "cell_type": "code",
   "execution_count": 78,
   "id": "73f523c9",
   "metadata": {},
   "outputs": [
    {
     "name": "stdout",
     "output_type": "stream",
     "text": [
      "best parameter after tuning:  {'learning_rate': 0.01, 'max_depth': 4, 'n_estimators': 200, 'objective': 'binary:logistic'}\n",
      "Model with Hyper-parameter tuning:  XGBClassifier(base_score=0.5, booster='gbtree', colsample_bylevel=1,\n",
      "              colsample_bynode=1, colsample_bytree=1, enable_categorical=False,\n",
      "              eval_metric='logloss', gamma=0, gpu_id=-1, importance_type=None,\n",
      "              interaction_constraints='', learning_rate=0.01, max_delta_step=0,\n",
      "              max_depth=4, min_child_weight=1, missing=nan,\n",
      "              monotone_constraints='()', n_estimators=200, n_jobs=8,\n",
      "              num_parallel_tree=1, predictor='auto', random_state=0,\n",
      "              reg_alpha=0, reg_lambda=1, scale_pos_weight=1, subsample=1,\n",
      "              tree_method='exact', validate_parameters=1, verbosity=None)\n"
     ]
    }
   ],
   "source": [
    "print('best parameter after tuning: ', grid.best_params_)\n",
    "print('Model with Hyper-parameter tuning: ', grid.best_estimator_)"
   ]
  },
  {
   "cell_type": "code",
   "execution_count": 79,
   "id": "e286f50b",
   "metadata": {},
   "outputs": [
    {
     "data": {
      "text/plain": [
       "0.8246753246753247"
      ]
     },
     "execution_count": 79,
     "metadata": {},
     "output_type": "execute_result"
    }
   ],
   "source": [
    "grid_predictions = grid.predict(X_test)\n",
    "accuracy_score(y_test,grid_predictions)"
   ]
  },
  {
   "cell_type": "markdown",
   "id": "675bd1a7",
   "metadata": {},
   "source": [
    "### Hyper-parameter tuning GBM"
   ]
  },
  {
   "cell_type": "code",
   "execution_count": 80,
   "id": "7d464594",
   "metadata": {
    "scrolled": true
   },
   "outputs": [
    {
     "data": {
      "text/plain": [
       "GridSearchCV(estimator=GradientBoostingClassifier(),\n",
       "             param_grid={'learning_rate': [0.01, 0.05, 0.001],\n",
       "                         'max_depth': [4, 6, 8],\n",
       "                         'n_estimators': [100, 200, 500, 1000]})"
      ]
     },
     "execution_count": 80,
     "metadata": {},
     "output_type": "execute_result"
    }
   ],
   "source": [
    "param_grid = { \n",
    "    'n_estimators': [100, 200, 500, 1000],\n",
    "    'learning_rate': [0.01, 0.05, 0.001],\n",
    "    'max_depth' : [4,6,8]}\n",
    " \n",
    "grid = GridSearchCV(GradientBoostingClassifier(), param_grid, refit = True, verbose = 0)\n",
    " \n",
    "# fitting the model for grid search\n",
    "grid.fit(X_train, y_train)"
   ]
  },
  {
   "cell_type": "code",
   "execution_count": 81,
   "id": "ba81c7fc",
   "metadata": {},
   "outputs": [
    {
     "name": "stdout",
     "output_type": "stream",
     "text": [
      "best parameter after tuning:  {'learning_rate': 0.01, 'max_depth': 4, 'n_estimators': 200}\n",
      "Model with Hyper-parameter tuning:  GradientBoostingClassifier(learning_rate=0.01, max_depth=4, n_estimators=200)\n"
     ]
    }
   ],
   "source": [
    "print('best parameter after tuning: ', grid.best_params_)\n",
    "print('Model with Hyper-parameter tuning: ', grid.best_estimator_)"
   ]
  },
  {
   "cell_type": "code",
   "execution_count": 82,
   "id": "8e21ec21",
   "metadata": {},
   "outputs": [
    {
     "data": {
      "text/plain": [
       "0.8181818181818182"
      ]
     },
     "execution_count": 82,
     "metadata": {},
     "output_type": "execute_result"
    }
   ],
   "source": [
    "grid_predictions = grid.predict(X_test)\n",
    "accuracy_score(y_test,grid_predictions)"
   ]
  },
  {
   "cell_type": "markdown",
   "id": "60cf10a8",
   "metadata": {},
   "source": [
    "# Deployment\n",
    "\n",
    "This section considers functions that prepares the data for prediction from the predict.csv file according to the steps taken with the data for the model implementation."
   ]
  },
  {
   "cell_type": "code",
   "execution_count": 83,
   "id": "81cbd925",
   "metadata": {},
   "outputs": [],
   "source": [
    "# Load data\n",
    "df_hist = pd.read_csv('loan.csv')\n",
    "df_predict = pd.read_csv('predict.csv')"
   ]
  },
  {
   "cell_type": "code",
   "execution_count": 84,
   "id": "6c0def54",
   "metadata": {},
   "outputs": [],
   "source": [
    "def value_imputation(df):\n",
    "    df = df.drop(['Loan_ID'],axis = 1)\n",
    "    df['Gender'].fillna('Male',inplace = True)\n",
    "    df['Married'].fillna('Yes',inplace = True)\n",
    "    df['Dependents'].fillna('0',inplace = True)\n",
    "    df['Self_Employed'].fillna('No',inplace = True)\n",
    "    df['LoanAmount'].fillna(df['LoanAmount'].mean(),inplace = True)\n",
    "    df['Loan_Amount_Term'].fillna(df['Loan_Amount_Term'].median(),inplace = True)\n",
    "    df['Credit_History'].fillna(1.0,inplace = True)\n",
    "    \n",
    "    return df\n",
    "\n",
    "def df_check(df):\n",
    "    print('Total missing values: {}'.format(df.isnull().sum().sum()))\n",
    "    df.info()\n",
    "    \n",
    "\n",
    "def encode_attributes(df):\n",
    "    binary = df.nunique()[df.nunique() == 2].keys().tolist()\n",
    "    numeric = [col for col in df.select_dtypes(['float64','int64']).columns.tolist() if col not in binary]\n",
    "    cat = [ col for col in df.select_dtypes('object').columns.to_list() if col not in binary + numeric]\n",
    "\n",
    "    df_encoded = df.copy()\n",
    "    \n",
    "    # Binary encode\n",
    "    label_encode = LabelEncoder()\n",
    "    for i in binary:\n",
    "        df_encoded[i] = label_encode.fit_transform(df_encoded[i])\n",
    "        print(i, '\\n', np.unique(df_encoded[i].values))\n",
    "    \n",
    "    #Dummy encode\n",
    "    df_encoded = pd.get_dummies(df_encoded, columns=cat)\n",
    "    \n",
    "    print('New DataFrame shape: {}'.format(df_encoded.shape))\n",
    "    df_encoded.info()\n",
    "    return df_encoded"
   ]
  },
  {
   "cell_type": "code",
   "execution_count": 85,
   "id": "2f097c54",
   "metadata": {},
   "outputs": [
    {
     "name": "stdout",
     "output_type": "stream",
     "text": [
      "Total missing values: 84\n",
      "<class 'pandas.core.frame.DataFrame'>\n",
      "RangeIndex: 367 entries, 0 to 366\n",
      "Data columns (total 12 columns):\n",
      " #   Column             Non-Null Count  Dtype  \n",
      "---  ------             --------------  -----  \n",
      " 0   Loan_ID            367 non-null    object \n",
      " 1   Gender             356 non-null    object \n",
      " 2   Married            367 non-null    object \n",
      " 3   Dependents         357 non-null    object \n",
      " 4   Education          367 non-null    object \n",
      " 5   Self_Employed      344 non-null    object \n",
      " 6   ApplicantIncome    367 non-null    int64  \n",
      " 7   CoapplicantIncome  367 non-null    int64  \n",
      " 8   LoanAmount         362 non-null    float64\n",
      " 9   Loan_Amount_Term   361 non-null    float64\n",
      " 10  Credit_History     338 non-null    float64\n",
      " 11  Property_Area      367 non-null    object \n",
      "dtypes: float64(3), int64(2), object(7)\n",
      "memory usage: 34.5+ KB\n",
      "Total missing values: 149\n",
      "<class 'pandas.core.frame.DataFrame'>\n",
      "RangeIndex: 614 entries, 0 to 613\n",
      "Data columns (total 13 columns):\n",
      " #   Column             Non-Null Count  Dtype  \n",
      "---  ------             --------------  -----  \n",
      " 0   Loan_ID            614 non-null    object \n",
      " 1   Gender             601 non-null    object \n",
      " 2   Married            611 non-null    object \n",
      " 3   Dependents         599 non-null    object \n",
      " 4   Education          614 non-null    object \n",
      " 5   Self_Employed      582 non-null    object \n",
      " 6   ApplicantIncome    614 non-null    int64  \n",
      " 7   CoapplicantIncome  614 non-null    float64\n",
      " 8   LoanAmount         592 non-null    float64\n",
      " 9   Loan_Amount_Term   600 non-null    float64\n",
      " 10  Credit_History     564 non-null    float64\n",
      " 11  Property_Area      614 non-null    object \n",
      " 12  Loan_Status        614 non-null    object \n",
      "dtypes: float64(4), int64(1), object(8)\n",
      "memory usage: 62.5+ KB\n"
     ]
    }
   ],
   "source": [
    "df_check(df_predict)\n",
    "df_check(df_hist)"
   ]
  },
  {
   "cell_type": "code",
   "execution_count": 86,
   "id": "c58c1712",
   "metadata": {},
   "outputs": [
    {
     "name": "stdout",
     "output_type": "stream",
     "text": [
      "Total missing values: 0\n",
      "<class 'pandas.core.frame.DataFrame'>\n",
      "RangeIndex: 367 entries, 0 to 366\n",
      "Data columns (total 11 columns):\n",
      " #   Column             Non-Null Count  Dtype  \n",
      "---  ------             --------------  -----  \n",
      " 0   Gender             367 non-null    object \n",
      " 1   Married            367 non-null    object \n",
      " 2   Dependents         367 non-null    object \n",
      " 3   Education          367 non-null    object \n",
      " 4   Self_Employed      367 non-null    object \n",
      " 5   ApplicantIncome    367 non-null    int64  \n",
      " 6   CoapplicantIncome  367 non-null    int64  \n",
      " 7   LoanAmount         367 non-null    float64\n",
      " 8   Loan_Amount_Term   367 non-null    float64\n",
      " 9   Credit_History     367 non-null    float64\n",
      " 10  Property_Area      367 non-null    object \n",
      "dtypes: float64(3), int64(2), object(6)\n",
      "memory usage: 31.7+ KB\n"
     ]
    }
   ],
   "source": [
    "new_df = value_imputation(df_predict)\n",
    "df_check(new_df)"
   ]
  },
  {
   "cell_type": "code",
   "execution_count": 87,
   "id": "af486014",
   "metadata": {},
   "outputs": [
    {
     "name": "stdout",
     "output_type": "stream",
     "text": [
      "Gender \n",
      " [0 1]\n",
      "Married \n",
      " [0 1]\n",
      "Education \n",
      " [0 1]\n",
      "Self_Employed \n",
      " [0 1]\n",
      "Credit_History \n",
      " [0 1]\n",
      "New DataFrame shape: (367, 16)\n",
      "<class 'pandas.core.frame.DataFrame'>\n",
      "RangeIndex: 367 entries, 0 to 366\n",
      "Data columns (total 16 columns):\n",
      " #   Column                   Non-Null Count  Dtype  \n",
      "---  ------                   --------------  -----  \n",
      " 0   Gender                   367 non-null    int32  \n",
      " 1   Married                  367 non-null    int32  \n",
      " 2   Education                367 non-null    int32  \n",
      " 3   Self_Employed            367 non-null    int32  \n",
      " 4   ApplicantIncome          367 non-null    int64  \n",
      " 5   CoapplicantIncome        367 non-null    int64  \n",
      " 6   LoanAmount               367 non-null    float64\n",
      " 7   Loan_Amount_Term         367 non-null    float64\n",
      " 8   Credit_History           367 non-null    int64  \n",
      " 9   Dependents_0             367 non-null    uint8  \n",
      " 10  Dependents_1             367 non-null    uint8  \n",
      " 11  Dependents_2             367 non-null    uint8  \n",
      " 12  Dependents_3+            367 non-null    uint8  \n",
      " 13  Property_Area_Rural      367 non-null    uint8  \n",
      " 14  Property_Area_Semiurban  367 non-null    uint8  \n",
      " 15  Property_Area_Urban      367 non-null    uint8  \n",
      "dtypes: float64(2), int32(4), int64(3), uint8(7)\n",
      "memory usage: 22.7 KB\n"
     ]
    }
   ],
   "source": [
    "encoded_df = encode_attributes(new_df)"
   ]
  },
  {
   "cell_type": "code",
   "execution_count": 88,
   "id": "e918b024",
   "metadata": {},
   "outputs": [
    {
     "name": "stdout",
     "output_type": "stream",
     "text": [
      "Gender \n",
      " [0 1]\n",
      "Married \n",
      " [0 1]\n",
      "Education \n",
      " [0 1]\n",
      "Self_Employed \n",
      " [0 1]\n",
      "Credit_History \n",
      " [0 1]\n",
      "Loan_Status \n",
      " [0 1]\n",
      "New DataFrame shape: (614, 17)\n",
      "<class 'pandas.core.frame.DataFrame'>\n",
      "RangeIndex: 614 entries, 0 to 613\n",
      "Data columns (total 17 columns):\n",
      " #   Column                   Non-Null Count  Dtype  \n",
      "---  ------                   --------------  -----  \n",
      " 0   Gender                   614 non-null    int32  \n",
      " 1   Married                  614 non-null    int32  \n",
      " 2   Education                614 non-null    int32  \n",
      " 3   Self_Employed            614 non-null    int32  \n",
      " 4   ApplicantIncome          614 non-null    int64  \n",
      " 5   CoapplicantIncome        614 non-null    float64\n",
      " 6   LoanAmount               614 non-null    float64\n",
      " 7   Loan_Amount_Term         614 non-null    float64\n",
      " 8   Credit_History           614 non-null    int64  \n",
      " 9   Loan_Status              614 non-null    int32  \n",
      " 10  Dependents_0             614 non-null    uint8  \n",
      " 11  Dependents_1             614 non-null    uint8  \n",
      " 12  Dependents_2             614 non-null    uint8  \n",
      " 13  Dependents_3+            614 non-null    uint8  \n",
      " 14  Property_Area_Rural      614 non-null    uint8  \n",
      " 15  Property_Area_Semiurban  614 non-null    uint8  \n",
      " 16  Property_Area_Urban      614 non-null    uint8  \n",
      "dtypes: float64(3), int32(5), int64(2), uint8(7)\n",
      "memory usage: 40.3 KB\n",
      "Gender \n",
      " [0 1]\n",
      "Married \n",
      " [0 1]\n",
      "Education \n",
      " [0 1]\n",
      "Self_Employed \n",
      " [0 1]\n",
      "Credit_History \n",
      " [0 1]\n",
      "New DataFrame shape: (367, 16)\n",
      "<class 'pandas.core.frame.DataFrame'>\n",
      "RangeIndex: 367 entries, 0 to 366\n",
      "Data columns (total 16 columns):\n",
      " #   Column                   Non-Null Count  Dtype  \n",
      "---  ------                   --------------  -----  \n",
      " 0   Gender                   367 non-null    int32  \n",
      " 1   Married                  367 non-null    int32  \n",
      " 2   Education                367 non-null    int32  \n",
      " 3   Self_Employed            367 non-null    int32  \n",
      " 4   ApplicantIncome          367 non-null    int64  \n",
      " 5   CoapplicantIncome        367 non-null    int64  \n",
      " 6   LoanAmount               367 non-null    float64\n",
      " 7   Loan_Amount_Term         367 non-null    float64\n",
      " 8   Credit_History           367 non-null    int64  \n",
      " 9   Dependents_0             367 non-null    uint8  \n",
      " 10  Dependents_1             367 non-null    uint8  \n",
      " 11  Dependents_2             367 non-null    uint8  \n",
      " 12  Dependents_3+            367 non-null    uint8  \n",
      " 13  Property_Area_Rural      367 non-null    uint8  \n",
      " 14  Property_Area_Semiurban  367 non-null    uint8  \n",
      " 15  Property_Area_Urban      367 non-null    uint8  \n",
      "dtypes: float64(2), int32(4), int64(3), uint8(7)\n",
      "memory usage: 22.7 KB\n",
      "Number Denied loans: 56\n",
      "Number Approved loans: 311\n"
     ]
    },
    {
     "data": {
      "text/html": [
       "<div>\n",
       "<style scoped>\n",
       "    .dataframe tbody tr th:only-of-type {\n",
       "        vertical-align: middle;\n",
       "    }\n",
       "\n",
       "    .dataframe tbody tr th {\n",
       "        vertical-align: top;\n",
       "    }\n",
       "\n",
       "    .dataframe thead th {\n",
       "        text-align: right;\n",
       "    }\n",
       "</style>\n",
       "<table border=\"1\" class=\"dataframe\">\n",
       "  <thead>\n",
       "    <tr style=\"text-align: right;\">\n",
       "      <th></th>\n",
       "      <th>Loan_ID</th>\n",
       "      <th>Loan_Status</th>\n",
       "    </tr>\n",
       "  </thead>\n",
       "  <tbody>\n",
       "    <tr>\n",
       "      <th>0</th>\n",
       "      <td>LP001015</td>\n",
       "      <td>1</td>\n",
       "    </tr>\n",
       "    <tr>\n",
       "      <th>1</th>\n",
       "      <td>LP001022</td>\n",
       "      <td>1</td>\n",
       "    </tr>\n",
       "    <tr>\n",
       "      <th>2</th>\n",
       "      <td>LP001031</td>\n",
       "      <td>1</td>\n",
       "    </tr>\n",
       "    <tr>\n",
       "      <th>3</th>\n",
       "      <td>LP001035</td>\n",
       "      <td>1</td>\n",
       "    </tr>\n",
       "    <tr>\n",
       "      <th>4</th>\n",
       "      <td>LP001051</td>\n",
       "      <td>1</td>\n",
       "    </tr>\n",
       "    <tr>\n",
       "      <th>...</th>\n",
       "      <td>...</td>\n",
       "      <td>...</td>\n",
       "    </tr>\n",
       "    <tr>\n",
       "      <th>362</th>\n",
       "      <td>LP002971</td>\n",
       "      <td>1</td>\n",
       "    </tr>\n",
       "    <tr>\n",
       "      <th>363</th>\n",
       "      <td>LP002975</td>\n",
       "      <td>1</td>\n",
       "    </tr>\n",
       "    <tr>\n",
       "      <th>364</th>\n",
       "      <td>LP002980</td>\n",
       "      <td>1</td>\n",
       "    </tr>\n",
       "    <tr>\n",
       "      <th>365</th>\n",
       "      <td>LP002986</td>\n",
       "      <td>1</td>\n",
       "    </tr>\n",
       "    <tr>\n",
       "      <th>366</th>\n",
       "      <td>LP002989</td>\n",
       "      <td>1</td>\n",
       "    </tr>\n",
       "  </tbody>\n",
       "</table>\n",
       "<p>367 rows × 2 columns</p>\n",
       "</div>"
      ],
      "text/plain": [
       "      Loan_ID  Loan_Status\n",
       "0    LP001015            1\n",
       "1    LP001022            1\n",
       "2    LP001031            1\n",
       "3    LP001035            1\n",
       "4    LP001051            1\n",
       "..        ...          ...\n",
       "362  LP002971            1\n",
       "363  LP002975            1\n",
       "364  LP002980            1\n",
       "365  LP002986            1\n",
       "366  LP002989            1\n",
       "\n",
       "[367 rows x 2 columns]"
      ]
     },
     "execution_count": 88,
     "metadata": {},
     "output_type": "execute_result"
    }
   ],
   "source": [
    "def predict_loan_approval(df,df_hist):\n",
    "    \n",
    "    hist_df = value_imputation(df_hist)\n",
    "    encoded_hist_df = encode_attributes(hist_df)\n",
    "    \n",
    "    logr = LogisticRegression(C = 0.1)\n",
    "    logr.fit(encoded_hist_df.drop(['Loan_Status'],axis = 1),encoded_hist_df['Loan_Status'])\n",
    "    new_df = value_imputation(df)\n",
    "    encoded_df = encode_attributes(new_df)\n",
    "    pred_new = logr.predict(encoded_df)\n",
    "    values, counts = np.unique(pred_new, return_counts=True)\n",
    "    print('Number Denied loans: {}\\nNumber Approved loans: {}'.format(counts[0],counts[1]))\n",
    "    \n",
    "    id_loan = df['Loan_ID'].values\n",
    "    loan_app = {'Loan_ID':id_loan,\n",
    "               'Loan_Status':pred_new}\n",
    "    return pd.DataFrame.from_dict(loan_app)\n",
    "\n",
    "predict_loan_approval(df_predict,df_hist)"
   ]
  }
 ],
 "metadata": {
  "kernelspec": {
   "display_name": "Python 3",
   "language": "python",
   "name": "python3"
  },
  "language_info": {
   "codemirror_mode": {
    "name": "ipython",
    "version": 3
   },
   "file_extension": ".py",
   "mimetype": "text/x-python",
   "name": "python",
   "nbconvert_exporter": "python",
   "pygments_lexer": "ipython3",
   "version": "3.8.8"
  },
  "toc": {
   "base_numbering": 1,
   "nav_menu": {},
   "number_sections": true,
   "sideBar": true,
   "skip_h1_title": false,
   "title_cell": "Table of Contents",
   "title_sidebar": "Contents",
   "toc_cell": false,
   "toc_position": {},
   "toc_section_display": true,
   "toc_window_display": false
  }
 },
 "nbformat": 4,
 "nbformat_minor": 5
}
